{
 "cells": [
  {
   "cell_type": "code",
   "execution_count": 1,
   "id": "f18ab4fe",
   "metadata": {},
   "outputs": [],
   "source": [
    "import pandas as pd\n",
    "import numpy as np\n",
    "import matplotlib.pyplot as plt\n",
    "%matplotlib inline\n",
    "import seaborn as sns"
   ]
  },
  {
   "cell_type": "code",
   "execution_count": 2,
   "id": "3a4309f3",
   "metadata": {},
   "outputs": [
    {
     "data": {
      "text/html": [
       "<div>\n",
       "<style scoped>\n",
       "    .dataframe tbody tr th:only-of-type {\n",
       "        vertical-align: middle;\n",
       "    }\n",
       "\n",
       "    .dataframe tbody tr th {\n",
       "        vertical-align: top;\n",
       "    }\n",
       "\n",
       "    .dataframe thead th {\n",
       "        text-align: right;\n",
       "    }\n",
       "</style>\n",
       "<table border=\"1\" class=\"dataframe\">\n",
       "  <thead>\n",
       "    <tr style=\"text-align: right;\">\n",
       "      <th></th>\n",
       "      <th>Gender</th>\n",
       "      <th>Age</th>\n",
       "      <th>Education</th>\n",
       "      <th>Income</th>\n",
       "      <th>Income2</th>\n",
       "      <th>Occupation</th>\n",
       "      <th>State</th>\n",
       "      <th>Relationship.Status</th>\n",
       "      <th>Obligation</th>\n",
       "      <th>Obligation2</th>\n",
       "      <th>...</th>\n",
       "      <th>entertainment facilities</th>\n",
       "      <th>not care about prices</th>\n",
       "      <th>life style of the local people</th>\n",
       "      <th>intense experience of nature</th>\n",
       "      <th>cosiness/familiar atmosphere</th>\n",
       "      <th>maintain unspoilt surroundings</th>\n",
       "      <th>everything organised</th>\n",
       "      <th>unspoilt nature/natural landscape</th>\n",
       "      <th>cultural offers</th>\n",
       "      <th>change of surroundings</th>\n",
       "    </tr>\n",
       "  </thead>\n",
       "  <tbody>\n",
       "    <tr>\n",
       "      <th>0</th>\n",
       "      <td>Female</td>\n",
       "      <td>25</td>\n",
       "      <td>6.0</td>\n",
       "      <td>$30,001 to $60,000</td>\n",
       "      <td>30-60k</td>\n",
       "      <td>Clerical or service worker</td>\n",
       "      <td>VIC</td>\n",
       "      <td>single</td>\n",
       "      <td>4.800000</td>\n",
       "      <td>Q4</td>\n",
       "      <td>...</td>\n",
       "      <td>no</td>\n",
       "      <td>no</td>\n",
       "      <td>no</td>\n",
       "      <td>no</td>\n",
       "      <td>no</td>\n",
       "      <td>no</td>\n",
       "      <td>no</td>\n",
       "      <td>no</td>\n",
       "      <td>no</td>\n",
       "      <td>no</td>\n",
       "    </tr>\n",
       "    <tr>\n",
       "      <th>1</th>\n",
       "      <td>Female</td>\n",
       "      <td>31</td>\n",
       "      <td>8.0</td>\n",
       "      <td>$120,001 to $150,000</td>\n",
       "      <td>&gt;120k</td>\n",
       "      <td>professional</td>\n",
       "      <td>WA</td>\n",
       "      <td>married</td>\n",
       "      <td>3.300000</td>\n",
       "      <td>Q1</td>\n",
       "      <td>...</td>\n",
       "      <td>no</td>\n",
       "      <td>no</td>\n",
       "      <td>yes</td>\n",
       "      <td>no</td>\n",
       "      <td>no</td>\n",
       "      <td>no</td>\n",
       "      <td>no</td>\n",
       "      <td>no</td>\n",
       "      <td>no</td>\n",
       "      <td>yes</td>\n",
       "    </tr>\n",
       "    <tr>\n",
       "      <th>2</th>\n",
       "      <td>Male</td>\n",
       "      <td>21</td>\n",
       "      <td>3.0</td>\n",
       "      <td>$90,001 to $120,000</td>\n",
       "      <td>90-120k</td>\n",
       "      <td>NaN</td>\n",
       "      <td>NSW</td>\n",
       "      <td>single</td>\n",
       "      <td>3.400000</td>\n",
       "      <td>Q2</td>\n",
       "      <td>...</td>\n",
       "      <td>no</td>\n",
       "      <td>yes</td>\n",
       "      <td>yes</td>\n",
       "      <td>no</td>\n",
       "      <td>yes</td>\n",
       "      <td>no</td>\n",
       "      <td>no</td>\n",
       "      <td>no</td>\n",
       "      <td>yes</td>\n",
       "      <td>no</td>\n",
       "    </tr>\n",
       "    <tr>\n",
       "      <th>3</th>\n",
       "      <td>Female</td>\n",
       "      <td>18</td>\n",
       "      <td>2.0</td>\n",
       "      <td>$30,001 to $60,000</td>\n",
       "      <td>30-60k</td>\n",
       "      <td>unemployed</td>\n",
       "      <td>NSW</td>\n",
       "      <td>single</td>\n",
       "      <td>2.633333</td>\n",
       "      <td>Q1</td>\n",
       "      <td>...</td>\n",
       "      <td>yes</td>\n",
       "      <td>no</td>\n",
       "      <td>no</td>\n",
       "      <td>yes</td>\n",
       "      <td>no</td>\n",
       "      <td>no</td>\n",
       "      <td>no</td>\n",
       "      <td>no</td>\n",
       "      <td>no</td>\n",
       "      <td>yes</td>\n",
       "    </tr>\n",
       "    <tr>\n",
       "      <th>4</th>\n",
       "      <td>Male</td>\n",
       "      <td>61</td>\n",
       "      <td>3.0</td>\n",
       "      <td>Less than $30,000</td>\n",
       "      <td>&lt;30k</td>\n",
       "      <td>retired</td>\n",
       "      <td>WA</td>\n",
       "      <td>married</td>\n",
       "      <td>3.400000</td>\n",
       "      <td>Q2</td>\n",
       "      <td>...</td>\n",
       "      <td>no</td>\n",
       "      <td>no</td>\n",
       "      <td>yes</td>\n",
       "      <td>no</td>\n",
       "      <td>no</td>\n",
       "      <td>yes</td>\n",
       "      <td>no</td>\n",
       "      <td>no</td>\n",
       "      <td>no</td>\n",
       "      <td>no</td>\n",
       "    </tr>\n",
       "  </tbody>\n",
       "</table>\n",
       "<p>5 rows × 32 columns</p>\n",
       "</div>"
      ],
      "text/plain": [
       "   Gender  Age  Education                Income  Income2  \\\n",
       "0  Female   25        6.0    $30,001 to $60,000   30-60k   \n",
       "1  Female   31        8.0  $120,001 to $150,000    >120k   \n",
       "2    Male   21        3.0   $90,001 to $120,000  90-120k   \n",
       "3  Female   18        2.0    $30,001 to $60,000   30-60k   \n",
       "4    Male   61        3.0     Less than $30,000     <30k   \n",
       "\n",
       "                   Occupation State Relationship.Status  Obligation  \\\n",
       "0  Clerical or service worker   VIC              single    4.800000   \n",
       "1                professional    WA             married    3.300000   \n",
       "2                         NaN   NSW              single    3.400000   \n",
       "3                  unemployed   NSW              single    2.633333   \n",
       "4                     retired    WA             married    3.400000   \n",
       "\n",
       "  Obligation2  ...  entertainment facilities  not care about prices  \\\n",
       "0          Q4  ...                        no                     no   \n",
       "1          Q1  ...                        no                     no   \n",
       "2          Q2  ...                        no                    yes   \n",
       "3          Q1  ...                       yes                     no   \n",
       "4          Q2  ...                        no                     no   \n",
       "\n",
       "  life style of the local people intense experience of nature  \\\n",
       "0                             no                           no   \n",
       "1                            yes                           no   \n",
       "2                            yes                           no   \n",
       "3                             no                          yes   \n",
       "4                            yes                           no   \n",
       "\n",
       "  cosiness/familiar atmosphere maintain unspoilt surroundings  \\\n",
       "0                           no                             no   \n",
       "1                           no                             no   \n",
       "2                          yes                             no   \n",
       "3                           no                             no   \n",
       "4                           no                            yes   \n",
       "\n",
       "  everything organised unspoilt nature/natural landscape cultural offers  \\\n",
       "0                   no                                no              no   \n",
       "1                   no                                no              no   \n",
       "2                   no                                no             yes   \n",
       "3                   no                                no              no   \n",
       "4                   no                                no              no   \n",
       "\n",
       "  change of surroundings  \n",
       "0                     no  \n",
       "1                    yes  \n",
       "2                     no  \n",
       "3                    yes  \n",
       "4                     no  \n",
       "\n",
       "[5 rows x 32 columns]"
      ]
     },
     "execution_count": 2,
     "metadata": {},
     "output_type": "execute_result"
    }
   ],
   "source": [
    "df = pd.read_csv('vacation.csv')\n",
    "df.head()"
   ]
  },
  {
   "cell_type": "code",
   "execution_count": 3,
   "id": "62ae971f",
   "metadata": {},
   "outputs": [
    {
     "data": {
      "text/plain": [
       "Gender                                0\n",
       "Age                                   0\n",
       "Education                             8\n",
       "Income                               66\n",
       "Income2                              66\n",
       "Occupation                           59\n",
       "State                                 0\n",
       "Relationship.Status                   4\n",
       "Obligation                            0\n",
       "Obligation2                           0\n",
       "NEP                                   0\n",
       "Vacation.Behaviour                   25\n",
       "rest and relax                        0\n",
       "luxury / be spoilt                    0\n",
       "do sports                             0\n",
       "excitement, a challenge               0\n",
       "not exceed planned budget             0\n",
       "realise creativity                    0\n",
       "fun and entertainment                 0\n",
       "good company                          0\n",
       "health and beauty                     0\n",
       "free-and-easy-going                   0\n",
       "entertainment facilities              0\n",
       "not care about prices                 0\n",
       "life style of the local people        0\n",
       "intense experience of nature          0\n",
       "cosiness/familiar atmosphere          0\n",
       "maintain unspoilt surroundings        0\n",
       "everything organised                  0\n",
       "unspoilt nature/natural landscape     0\n",
       "cultural offers                       0\n",
       "change of surroundings                0\n",
       "dtype: int64"
      ]
     },
     "execution_count": 3,
     "metadata": {},
     "output_type": "execute_result"
    }
   ],
   "source": [
    "df.isna().sum()"
   ]
  },
  {
   "cell_type": "code",
   "execution_count": 4,
   "id": "86447581",
   "metadata": {},
   "outputs": [
    {
     "data": {
      "text/plain": [
       "(1000, 32)"
      ]
     },
     "execution_count": 4,
     "metadata": {},
     "output_type": "execute_result"
    }
   ],
   "source": [
    "df.shape"
   ]
  },
  {
   "cell_type": "code",
   "execution_count": 5,
   "id": "98b79a79",
   "metadata": {},
   "outputs": [
    {
     "data": {
      "text/html": [
       "<div>\n",
       "<style scoped>\n",
       "    .dataframe tbody tr th:only-of-type {\n",
       "        vertical-align: middle;\n",
       "    }\n",
       "\n",
       "    .dataframe tbody tr th {\n",
       "        vertical-align: top;\n",
       "    }\n",
       "\n",
       "    .dataframe thead th {\n",
       "        text-align: right;\n",
       "    }\n",
       "</style>\n",
       "<table border=\"1\" class=\"dataframe\">\n",
       "  <thead>\n",
       "    <tr style=\"text-align: right;\">\n",
       "      <th></th>\n",
       "      <th>Gender</th>\n",
       "      <th>Age</th>\n",
       "      <th>Education</th>\n",
       "      <th>Income</th>\n",
       "      <th>Income2</th>\n",
       "      <th>Occupation</th>\n",
       "      <th>State</th>\n",
       "      <th>Relationship.Status</th>\n",
       "      <th>Obligation</th>\n",
       "      <th>Obligation2</th>\n",
       "      <th>...</th>\n",
       "      <th>entertainment facilities</th>\n",
       "      <th>not care about prices</th>\n",
       "      <th>life style of the local people</th>\n",
       "      <th>intense experience of nature</th>\n",
       "      <th>cosiness/familiar atmosphere</th>\n",
       "      <th>maintain unspoilt surroundings</th>\n",
       "      <th>everything organised</th>\n",
       "      <th>unspoilt nature/natural landscape</th>\n",
       "      <th>cultural offers</th>\n",
       "      <th>change of surroundings</th>\n",
       "    </tr>\n",
       "  </thead>\n",
       "  <tbody>\n",
       "    <tr>\n",
       "      <th>0</th>\n",
       "      <td>Female</td>\n",
       "      <td>25</td>\n",
       "      <td>6.0</td>\n",
       "      <td>$30,001 to $60,000</td>\n",
       "      <td>30-60k</td>\n",
       "      <td>Clerical or service worker</td>\n",
       "      <td>VIC</td>\n",
       "      <td>single</td>\n",
       "      <td>4.800000</td>\n",
       "      <td>Q4</td>\n",
       "      <td>...</td>\n",
       "      <td>no</td>\n",
       "      <td>no</td>\n",
       "      <td>no</td>\n",
       "      <td>no</td>\n",
       "      <td>no</td>\n",
       "      <td>no</td>\n",
       "      <td>no</td>\n",
       "      <td>no</td>\n",
       "      <td>no</td>\n",
       "      <td>no</td>\n",
       "    </tr>\n",
       "    <tr>\n",
       "      <th>1</th>\n",
       "      <td>Female</td>\n",
       "      <td>31</td>\n",
       "      <td>8.0</td>\n",
       "      <td>$120,001 to $150,000</td>\n",
       "      <td>&gt;120k</td>\n",
       "      <td>professional</td>\n",
       "      <td>WA</td>\n",
       "      <td>married</td>\n",
       "      <td>3.300000</td>\n",
       "      <td>Q1</td>\n",
       "      <td>...</td>\n",
       "      <td>no</td>\n",
       "      <td>no</td>\n",
       "      <td>yes</td>\n",
       "      <td>no</td>\n",
       "      <td>no</td>\n",
       "      <td>no</td>\n",
       "      <td>no</td>\n",
       "      <td>no</td>\n",
       "      <td>no</td>\n",
       "      <td>yes</td>\n",
       "    </tr>\n",
       "    <tr>\n",
       "      <th>3</th>\n",
       "      <td>Female</td>\n",
       "      <td>18</td>\n",
       "      <td>2.0</td>\n",
       "      <td>$30,001 to $60,000</td>\n",
       "      <td>30-60k</td>\n",
       "      <td>unemployed</td>\n",
       "      <td>NSW</td>\n",
       "      <td>single</td>\n",
       "      <td>2.633333</td>\n",
       "      <td>Q1</td>\n",
       "      <td>...</td>\n",
       "      <td>yes</td>\n",
       "      <td>no</td>\n",
       "      <td>no</td>\n",
       "      <td>yes</td>\n",
       "      <td>no</td>\n",
       "      <td>no</td>\n",
       "      <td>no</td>\n",
       "      <td>no</td>\n",
       "      <td>no</td>\n",
       "      <td>yes</td>\n",
       "    </tr>\n",
       "    <tr>\n",
       "      <th>4</th>\n",
       "      <td>Male</td>\n",
       "      <td>61</td>\n",
       "      <td>3.0</td>\n",
       "      <td>Less than $30,000</td>\n",
       "      <td>&lt;30k</td>\n",
       "      <td>retired</td>\n",
       "      <td>WA</td>\n",
       "      <td>married</td>\n",
       "      <td>3.400000</td>\n",
       "      <td>Q2</td>\n",
       "      <td>...</td>\n",
       "      <td>no</td>\n",
       "      <td>no</td>\n",
       "      <td>yes</td>\n",
       "      <td>no</td>\n",
       "      <td>no</td>\n",
       "      <td>yes</td>\n",
       "      <td>no</td>\n",
       "      <td>no</td>\n",
       "      <td>no</td>\n",
       "      <td>no</td>\n",
       "    </tr>\n",
       "    <tr>\n",
       "      <th>5</th>\n",
       "      <td>Female</td>\n",
       "      <td>63</td>\n",
       "      <td>7.0</td>\n",
       "      <td>$30,001 to $60,000</td>\n",
       "      <td>30-60k</td>\n",
       "      <td>retired</td>\n",
       "      <td>QLD</td>\n",
       "      <td>married</td>\n",
       "      <td>4.400000</td>\n",
       "      <td>Q4</td>\n",
       "      <td>...</td>\n",
       "      <td>no</td>\n",
       "      <td>no</td>\n",
       "      <td>no</td>\n",
       "      <td>no</td>\n",
       "      <td>yes</td>\n",
       "      <td>no</td>\n",
       "      <td>no</td>\n",
       "      <td>no</td>\n",
       "      <td>no</td>\n",
       "      <td>no</td>\n",
       "    </tr>\n",
       "    <tr>\n",
       "      <th>6</th>\n",
       "      <td>Male</td>\n",
       "      <td>58</td>\n",
       "      <td>2.0</td>\n",
       "      <td>Less than $30,000</td>\n",
       "      <td>&lt;30k</td>\n",
       "      <td>retired</td>\n",
       "      <td>Tas</td>\n",
       "      <td>separated or divorced</td>\n",
       "      <td>3.433333</td>\n",
       "      <td>Q2</td>\n",
       "      <td>...</td>\n",
       "      <td>no</td>\n",
       "      <td>no</td>\n",
       "      <td>no</td>\n",
       "      <td>no</td>\n",
       "      <td>no</td>\n",
       "      <td>yes</td>\n",
       "      <td>yes</td>\n",
       "      <td>no</td>\n",
       "      <td>no</td>\n",
       "      <td>yes</td>\n",
       "    </tr>\n",
       "    <tr>\n",
       "      <th>7</th>\n",
       "      <td>Male</td>\n",
       "      <td>41</td>\n",
       "      <td>8.0</td>\n",
       "      <td>$30,001 to $60,000</td>\n",
       "      <td>30-60k</td>\n",
       "      <td>manager or administrator</td>\n",
       "      <td>VIC</td>\n",
       "      <td>living with a partner</td>\n",
       "      <td>4.266667</td>\n",
       "      <td>Q4</td>\n",
       "      <td>...</td>\n",
       "      <td>no</td>\n",
       "      <td>yes</td>\n",
       "      <td>yes</td>\n",
       "      <td>no</td>\n",
       "      <td>no</td>\n",
       "      <td>yes</td>\n",
       "      <td>no</td>\n",
       "      <td>yes</td>\n",
       "      <td>yes</td>\n",
       "      <td>yes</td>\n",
       "    </tr>\n",
       "  </tbody>\n",
       "</table>\n",
       "<p>7 rows × 32 columns</p>\n",
       "</div>"
      ],
      "text/plain": [
       "   Gender  Age  Education                Income Income2  \\\n",
       "0  Female   25        6.0    $30,001 to $60,000  30-60k   \n",
       "1  Female   31        8.0  $120,001 to $150,000   >120k   \n",
       "3  Female   18        2.0    $30,001 to $60,000  30-60k   \n",
       "4    Male   61        3.0     Less than $30,000    <30k   \n",
       "5  Female   63        7.0    $30,001 to $60,000  30-60k   \n",
       "6    Male   58        2.0     Less than $30,000    <30k   \n",
       "7    Male   41        8.0    $30,001 to $60,000  30-60k   \n",
       "\n",
       "                   Occupation State    Relationship.Status  Obligation  \\\n",
       "0  Clerical or service worker   VIC                 single    4.800000   \n",
       "1                professional    WA                married    3.300000   \n",
       "3                  unemployed   NSW                 single    2.633333   \n",
       "4                     retired    WA                married    3.400000   \n",
       "5                     retired   QLD                married    4.400000   \n",
       "6                     retired   Tas  separated or divorced    3.433333   \n",
       "7    manager or administrator   VIC  living with a partner    4.266667   \n",
       "\n",
       "  Obligation2  ...  entertainment facilities  not care about prices  \\\n",
       "0          Q4  ...                        no                     no   \n",
       "1          Q1  ...                        no                     no   \n",
       "3          Q1  ...                       yes                     no   \n",
       "4          Q2  ...                        no                     no   \n",
       "5          Q4  ...                        no                     no   \n",
       "6          Q2  ...                        no                     no   \n",
       "7          Q4  ...                        no                    yes   \n",
       "\n",
       "  life style of the local people intense experience of nature  \\\n",
       "0                             no                           no   \n",
       "1                            yes                           no   \n",
       "3                             no                          yes   \n",
       "4                            yes                           no   \n",
       "5                             no                           no   \n",
       "6                             no                           no   \n",
       "7                            yes                           no   \n",
       "\n",
       "  cosiness/familiar atmosphere maintain unspoilt surroundings  \\\n",
       "0                           no                             no   \n",
       "1                           no                             no   \n",
       "3                           no                             no   \n",
       "4                           no                            yes   \n",
       "5                          yes                             no   \n",
       "6                           no                            yes   \n",
       "7                           no                            yes   \n",
       "\n",
       "  everything organised unspoilt nature/natural landscape cultural offers  \\\n",
       "0                   no                                no              no   \n",
       "1                   no                                no              no   \n",
       "3                   no                                no              no   \n",
       "4                   no                                no              no   \n",
       "5                   no                                no              no   \n",
       "6                  yes                                no              no   \n",
       "7                   no                               yes             yes   \n",
       "\n",
       "  change of surroundings  \n",
       "0                     no  \n",
       "1                    yes  \n",
       "3                    yes  \n",
       "4                     no  \n",
       "5                     no  \n",
       "6                    yes  \n",
       "7                    yes  \n",
       "\n",
       "[7 rows x 32 columns]"
      ]
     },
     "execution_count": 5,
     "metadata": {},
     "output_type": "execute_result"
    }
   ],
   "source": [
    "df1 = df.dropna()\n",
    "df1.head(7)"
   ]
  },
  {
   "cell_type": "code",
   "execution_count": 6,
   "id": "019aea6d",
   "metadata": {},
   "outputs": [
    {
     "data": {
      "text/plain": [
       "(868, 32)"
      ]
     },
     "execution_count": 6,
     "metadata": {},
     "output_type": "execute_result"
    }
   ],
   "source": [
    "df1.shape"
   ]
  },
  {
   "cell_type": "code",
   "execution_count": 7,
   "id": "93143eab",
   "metadata": {},
   "outputs": [
    {
     "name": "stdout",
     "output_type": "stream",
     "text": [
      "<class 'pandas.core.frame.DataFrame'>\n",
      "Int64Index: 868 entries, 0 to 999\n",
      "Data columns (total 32 columns):\n",
      " #   Column                             Non-Null Count  Dtype  \n",
      "---  ------                             --------------  -----  \n",
      " 0   Gender                             868 non-null    object \n",
      " 1   Age                                868 non-null    int64  \n",
      " 2   Education                          868 non-null    float64\n",
      " 3   Income                             868 non-null    object \n",
      " 4   Income2                            868 non-null    object \n",
      " 5   Occupation                         868 non-null    object \n",
      " 6   State                              868 non-null    object \n",
      " 7   Relationship.Status                868 non-null    object \n",
      " 8   Obligation                         868 non-null    float64\n",
      " 9   Obligation2                        868 non-null    object \n",
      " 10  NEP                                868 non-null    float64\n",
      " 11  Vacation.Behaviour                 868 non-null    float64\n",
      " 12  rest and relax                     868 non-null    object \n",
      " 13  luxury / be spoilt                 868 non-null    object \n",
      " 14  do sports                          868 non-null    object \n",
      " 15  excitement, a challenge            868 non-null    object \n",
      " 16  not exceed planned budget          868 non-null    object \n",
      " 17  realise creativity                 868 non-null    object \n",
      " 18  fun and entertainment              868 non-null    object \n",
      " 19  good company                       868 non-null    object \n",
      " 20  health and beauty                  868 non-null    object \n",
      " 21  free-and-easy-going                868 non-null    object \n",
      " 22  entertainment facilities           868 non-null    object \n",
      " 23  not care about prices              868 non-null    object \n",
      " 24  life style of the local people     868 non-null    object \n",
      " 25  intense experience of nature       868 non-null    object \n",
      " 26  cosiness/familiar atmosphere       868 non-null    object \n",
      " 27  maintain unspoilt surroundings     868 non-null    object \n",
      " 28  everything organised               868 non-null    object \n",
      " 29  unspoilt nature/natural landscape  868 non-null    object \n",
      " 30  cultural offers                    868 non-null    object \n",
      " 31  change of surroundings             868 non-null    object \n",
      "dtypes: float64(4), int64(1), object(27)\n",
      "memory usage: 223.8+ KB\n"
     ]
    }
   ],
   "source": [
    "df1.info()"
   ]
  },
  {
   "cell_type": "code",
   "execution_count": 8,
   "id": "58c96272",
   "metadata": {},
   "outputs": [
    {
     "data": {
      "text/html": [
       "<div>\n",
       "<style scoped>\n",
       "    .dataframe tbody tr th:only-of-type {\n",
       "        vertical-align: middle;\n",
       "    }\n",
       "\n",
       "    .dataframe tbody tr th {\n",
       "        vertical-align: top;\n",
       "    }\n",
       "\n",
       "    .dataframe thead th {\n",
       "        text-align: right;\n",
       "    }\n",
       "</style>\n",
       "<table border=\"1\" class=\"dataframe\">\n",
       "  <thead>\n",
       "    <tr style=\"text-align: right;\">\n",
       "      <th></th>\n",
       "      <th>Age</th>\n",
       "      <th>Education</th>\n",
       "      <th>Obligation</th>\n",
       "      <th>NEP</th>\n",
       "      <th>Vacation.Behaviour</th>\n",
       "    </tr>\n",
       "  </thead>\n",
       "  <tbody>\n",
       "    <tr>\n",
       "      <th>count</th>\n",
       "      <td>868.000000</td>\n",
       "      <td>868.000000</td>\n",
       "      <td>868.000000</td>\n",
       "      <td>868.000000</td>\n",
       "      <td>868.000000</td>\n",
       "    </tr>\n",
       "    <tr>\n",
       "      <th>mean</th>\n",
       "      <td>44.243088</td>\n",
       "      <td>4.900922</td>\n",
       "      <td>3.735945</td>\n",
       "      <td>3.649923</td>\n",
       "      <td>2.959244</td>\n",
       "    </tr>\n",
       "    <tr>\n",
       "      <th>std</th>\n",
       "      <td>14.334435</td>\n",
       "      <td>2.398452</td>\n",
       "      <td>0.651888</td>\n",
       "      <td>0.566316</td>\n",
       "      <td>0.665689</td>\n",
       "    </tr>\n",
       "    <tr>\n",
       "      <th>min</th>\n",
       "      <td>18.000000</td>\n",
       "      <td>1.000000</td>\n",
       "      <td>1.000000</td>\n",
       "      <td>1.733333</td>\n",
       "      <td>1.392857</td>\n",
       "    </tr>\n",
       "    <tr>\n",
       "      <th>25%</th>\n",
       "      <td>32.750000</td>\n",
       "      <td>3.000000</td>\n",
       "      <td>3.400000</td>\n",
       "      <td>3.266667</td>\n",
       "      <td>2.466667</td>\n",
       "    </tr>\n",
       "    <tr>\n",
       "      <th>50%</th>\n",
       "      <td>42.000000</td>\n",
       "      <td>6.000000</td>\n",
       "      <td>3.800000</td>\n",
       "      <td>3.666667</td>\n",
       "      <td>2.939338</td>\n",
       "    </tr>\n",
       "    <tr>\n",
       "      <th>75%</th>\n",
       "      <td>57.000000</td>\n",
       "      <td>7.000000</td>\n",
       "      <td>4.200000</td>\n",
       "      <td>4.066667</td>\n",
       "      <td>3.428571</td>\n",
       "    </tr>\n",
       "    <tr>\n",
       "      <th>max</th>\n",
       "      <td>105.000000</td>\n",
       "      <td>8.000000</td>\n",
       "      <td>5.000000</td>\n",
       "      <td>5.000000</td>\n",
       "      <td>4.766667</td>\n",
       "    </tr>\n",
       "  </tbody>\n",
       "</table>\n",
       "</div>"
      ],
      "text/plain": [
       "              Age   Education  Obligation         NEP  Vacation.Behaviour\n",
       "count  868.000000  868.000000  868.000000  868.000000          868.000000\n",
       "mean    44.243088    4.900922    3.735945    3.649923            2.959244\n",
       "std     14.334435    2.398452    0.651888    0.566316            0.665689\n",
       "min     18.000000    1.000000    1.000000    1.733333            1.392857\n",
       "25%     32.750000    3.000000    3.400000    3.266667            2.466667\n",
       "50%     42.000000    6.000000    3.800000    3.666667            2.939338\n",
       "75%     57.000000    7.000000    4.200000    4.066667            3.428571\n",
       "max    105.000000    8.000000    5.000000    5.000000            4.766667"
      ]
     },
     "execution_count": 8,
     "metadata": {},
     "output_type": "execute_result"
    }
   ],
   "source": [
    "df1.describe()"
   ]
  },
  {
   "cell_type": "code",
   "execution_count": 9,
   "id": "a7d83cfa",
   "metadata": {},
   "outputs": [
    {
     "name": "stdout",
     "output_type": "stream",
     "text": [
      "              Age   Education\n",
      "count  868.000000  868.000000\n",
      "mean    44.243088    4.900922\n",
      "std     14.334435    2.398452\n",
      "min     18.000000    1.000000\n",
      "25%     32.750000    3.000000\n",
      "50%     42.000000    6.000000\n",
      "75%     57.000000    7.000000\n",
      "max    105.000000    8.000000\n"
     ]
    }
   ],
   "source": [
    "summary = df1.iloc[:, [1,2,4,5]].describe()\n",
    "print(summary)"
   ]
  },
  {
   "cell_type": "code",
   "execution_count": 10,
   "id": "eb0ef143",
   "metadata": {},
   "outputs": [
    {
     "name": "stdout",
     "output_type": "stream",
     "text": [
      "Gender  Income                Income2\n",
      "Female  $30,001 to $60,000    30-60k     146\n",
      "Male    $60,001 to $90,000    60-90k     133\n",
      "        $30,001 to $60,000    30-60k     119\n",
      "Female  $60,001 to $90,000    60-90k     100\n",
      "        Less than $30,000     <30k        95\n",
      "Male    $90,001 to $120,000   90-120k     90\n",
      "Female  $90,001 to $120,000   90-120k     56\n",
      "Male    Less than $30,000     <30k        55\n",
      "        $120,001 to $150,000  >120k       41\n",
      "Female  $120,001 to $150,000  >120k       31\n",
      "Male    $150,001 to $180,000  >120k       23\n",
      "        $180,001 to $210,000  >120k       11\n",
      "Female  $150,001 to $180,000  >120k        9\n",
      "Male    $210,001 to $240,000  >120k        8\n",
      "        more than $240,001    >120k        7\n",
      "Female  more than $240,001    >120k        4\n",
      "        $180,001 to $210,000  >120k        4\n",
      "        $210,001 to $240,000  >120k        2\n",
      "dtype: int64\n"
     ]
    }
   ],
   "source": [
    "object_counts = df[['Gender', 'Income', 'Income2']].value_counts()\n",
    "print(object_counts)"
   ]
  },
  {
   "cell_type": "code",
   "execution_count": 11,
   "id": "2bcc2ee5",
   "metadata": {},
   "outputs": [
    {
     "name": "stdout",
     "output_type": "stream",
     "text": [
      "Gender\n",
      "Male      512\n",
      "Female    488\n",
      "dtype: int64\n"
     ]
    }
   ],
   "source": [
    "g_counts = df[['Gender']].value_counts()\n",
    "print(g_counts)"
   ]
  },
  {
   "cell_type": "code",
   "execution_count": 12,
   "id": "3d97e2b6",
   "metadata": {},
   "outputs": [
    {
     "name": "stdout",
     "output_type": "stream",
     "text": [
      "Income              \n",
      "$30,001 to $60,000      265\n",
      "$60,001 to $90,000      233\n",
      "Less than $30,000       150\n",
      "$90,001 to $120,000     146\n",
      "$120,001 to $150,000     72\n",
      "$150,001 to $180,000     32\n",
      "$180,001 to $210,000     15\n",
      "more than $240,001       11\n",
      "$210,001 to $240,000     10\n",
      "dtype: int64\n"
     ]
    }
   ],
   "source": [
    "i_counts = df[['Income']].value_counts()\n",
    "print(i_counts)"
   ]
  },
  {
   "cell_type": "code",
   "execution_count": 13,
   "id": "7829ff33",
   "metadata": {},
   "outputs": [
    {
     "name": "stdout",
     "output_type": "stream",
     "text": [
      "Income2\n",
      "30-60k     265\n",
      "60-90k     233\n",
      "<30k       150\n",
      "90-120k    146\n",
      ">120k      140\n",
      "dtype: int64\n"
     ]
    }
   ],
   "source": [
    "i2_counts = df[['Income2']].value_counts()\n",
    "print(i2_counts)"
   ]
  },
  {
   "cell_type": "code",
   "execution_count": 14,
   "id": "6e5c5151",
   "metadata": {},
   "outputs": [
    {
     "name": "stderr",
     "output_type": "stream",
     "text": [
      "/var/folders/c6/d2cbn9p93qzbdljbz63t5cxr0000gn/T/ipykernel_41094/3092259824.py:3: SettingWithCopyWarning: \n",
      "A value is trying to be set on a copy of a slice from a DataFrame.\n",
      "Try using .loc[row_indexer,col_indexer] = value instead\n",
      "\n",
      "See the caveats in the documentation: https://pandas.pydata.org/pandas-docs/stable/user_guide/indexing.html#returning-a-view-versus-a-copy\n",
      "  df1.loc[:, 'Income2'] = pd.Categorical(df1['Income2'], categories = new_levels_order, ordered = True)\n"
     ]
    },
    {
     "data": {
      "text/html": [
       "<div>\n",
       "<style scoped>\n",
       "    .dataframe tbody tr th:only-of-type {\n",
       "        vertical-align: middle;\n",
       "    }\n",
       "\n",
       "    .dataframe tbody tr th {\n",
       "        vertical-align: top;\n",
       "    }\n",
       "\n",
       "    .dataframe thead th {\n",
       "        text-align: right;\n",
       "    }\n",
       "</style>\n",
       "<table border=\"1\" class=\"dataframe\">\n",
       "  <thead>\n",
       "    <tr style=\"text-align: right;\">\n",
       "      <th></th>\n",
       "      <th>Gender</th>\n",
       "      <th>Age</th>\n",
       "      <th>Education</th>\n",
       "      <th>Income</th>\n",
       "      <th>Income2</th>\n",
       "      <th>Occupation</th>\n",
       "      <th>State</th>\n",
       "      <th>Relationship.Status</th>\n",
       "      <th>Obligation</th>\n",
       "      <th>Obligation2</th>\n",
       "      <th>...</th>\n",
       "      <th>entertainment facilities</th>\n",
       "      <th>not care about prices</th>\n",
       "      <th>life style of the local people</th>\n",
       "      <th>intense experience of nature</th>\n",
       "      <th>cosiness/familiar atmosphere</th>\n",
       "      <th>maintain unspoilt surroundings</th>\n",
       "      <th>everything organised</th>\n",
       "      <th>unspoilt nature/natural landscape</th>\n",
       "      <th>cultural offers</th>\n",
       "      <th>change of surroundings</th>\n",
       "    </tr>\n",
       "  </thead>\n",
       "  <tbody>\n",
       "    <tr>\n",
       "      <th>0</th>\n",
       "      <td>Female</td>\n",
       "      <td>25</td>\n",
       "      <td>6.0</td>\n",
       "      <td>$30,001 to $60,000</td>\n",
       "      <td>30-60k</td>\n",
       "      <td>Clerical or service worker</td>\n",
       "      <td>VIC</td>\n",
       "      <td>single</td>\n",
       "      <td>4.800000</td>\n",
       "      <td>Q4</td>\n",
       "      <td>...</td>\n",
       "      <td>no</td>\n",
       "      <td>no</td>\n",
       "      <td>no</td>\n",
       "      <td>no</td>\n",
       "      <td>no</td>\n",
       "      <td>no</td>\n",
       "      <td>no</td>\n",
       "      <td>no</td>\n",
       "      <td>no</td>\n",
       "      <td>no</td>\n",
       "    </tr>\n",
       "    <tr>\n",
       "      <th>1</th>\n",
       "      <td>Female</td>\n",
       "      <td>31</td>\n",
       "      <td>8.0</td>\n",
       "      <td>$120,001 to $150,000</td>\n",
       "      <td>&gt;120k</td>\n",
       "      <td>professional</td>\n",
       "      <td>WA</td>\n",
       "      <td>married</td>\n",
       "      <td>3.300000</td>\n",
       "      <td>Q1</td>\n",
       "      <td>...</td>\n",
       "      <td>no</td>\n",
       "      <td>no</td>\n",
       "      <td>yes</td>\n",
       "      <td>no</td>\n",
       "      <td>no</td>\n",
       "      <td>no</td>\n",
       "      <td>no</td>\n",
       "      <td>no</td>\n",
       "      <td>no</td>\n",
       "      <td>yes</td>\n",
       "    </tr>\n",
       "    <tr>\n",
       "      <th>3</th>\n",
       "      <td>Female</td>\n",
       "      <td>18</td>\n",
       "      <td>2.0</td>\n",
       "      <td>$30,001 to $60,000</td>\n",
       "      <td>30-60k</td>\n",
       "      <td>unemployed</td>\n",
       "      <td>NSW</td>\n",
       "      <td>single</td>\n",
       "      <td>2.633333</td>\n",
       "      <td>Q1</td>\n",
       "      <td>...</td>\n",
       "      <td>yes</td>\n",
       "      <td>no</td>\n",
       "      <td>no</td>\n",
       "      <td>yes</td>\n",
       "      <td>no</td>\n",
       "      <td>no</td>\n",
       "      <td>no</td>\n",
       "      <td>no</td>\n",
       "      <td>no</td>\n",
       "      <td>yes</td>\n",
       "    </tr>\n",
       "    <tr>\n",
       "      <th>4</th>\n",
       "      <td>Male</td>\n",
       "      <td>61</td>\n",
       "      <td>3.0</td>\n",
       "      <td>Less than $30,000</td>\n",
       "      <td>&lt;30k</td>\n",
       "      <td>retired</td>\n",
       "      <td>WA</td>\n",
       "      <td>married</td>\n",
       "      <td>3.400000</td>\n",
       "      <td>Q2</td>\n",
       "      <td>...</td>\n",
       "      <td>no</td>\n",
       "      <td>no</td>\n",
       "      <td>yes</td>\n",
       "      <td>no</td>\n",
       "      <td>no</td>\n",
       "      <td>yes</td>\n",
       "      <td>no</td>\n",
       "      <td>no</td>\n",
       "      <td>no</td>\n",
       "      <td>no</td>\n",
       "    </tr>\n",
       "    <tr>\n",
       "      <th>5</th>\n",
       "      <td>Female</td>\n",
       "      <td>63</td>\n",
       "      <td>7.0</td>\n",
       "      <td>$30,001 to $60,000</td>\n",
       "      <td>30-60k</td>\n",
       "      <td>retired</td>\n",
       "      <td>QLD</td>\n",
       "      <td>married</td>\n",
       "      <td>4.400000</td>\n",
       "      <td>Q4</td>\n",
       "      <td>...</td>\n",
       "      <td>no</td>\n",
       "      <td>no</td>\n",
       "      <td>no</td>\n",
       "      <td>no</td>\n",
       "      <td>yes</td>\n",
       "      <td>no</td>\n",
       "      <td>no</td>\n",
       "      <td>no</td>\n",
       "      <td>no</td>\n",
       "      <td>no</td>\n",
       "    </tr>\n",
       "  </tbody>\n",
       "</table>\n",
       "<p>5 rows × 32 columns</p>\n",
       "</div>"
      ],
      "text/plain": [
       "   Gender  Age  Education                Income Income2  \\\n",
       "0  Female   25        6.0    $30,001 to $60,000  30-60k   \n",
       "1  Female   31        8.0  $120,001 to $150,000   >120k   \n",
       "3  Female   18        2.0    $30,001 to $60,000  30-60k   \n",
       "4    Male   61        3.0     Less than $30,000    <30k   \n",
       "5  Female   63        7.0    $30,001 to $60,000  30-60k   \n",
       "\n",
       "                   Occupation State Relationship.Status  Obligation  \\\n",
       "0  Clerical or service worker   VIC              single    4.800000   \n",
       "1                professional    WA             married    3.300000   \n",
       "3                  unemployed   NSW              single    2.633333   \n",
       "4                     retired    WA             married    3.400000   \n",
       "5                     retired   QLD             married    4.400000   \n",
       "\n",
       "  Obligation2  ...  entertainment facilities  not care about prices  \\\n",
       "0          Q4  ...                        no                     no   \n",
       "1          Q1  ...                        no                     no   \n",
       "3          Q1  ...                       yes                     no   \n",
       "4          Q2  ...                        no                     no   \n",
       "5          Q4  ...                        no                     no   \n",
       "\n",
       "  life style of the local people intense experience of nature  \\\n",
       "0                             no                           no   \n",
       "1                            yes                           no   \n",
       "3                             no                          yes   \n",
       "4                            yes                           no   \n",
       "5                             no                           no   \n",
       "\n",
       "  cosiness/familiar atmosphere maintain unspoilt surroundings  \\\n",
       "0                           no                             no   \n",
       "1                           no                             no   \n",
       "3                           no                             no   \n",
       "4                           no                            yes   \n",
       "5                          yes                             no   \n",
       "\n",
       "  everything organised unspoilt nature/natural landscape cultural offers  \\\n",
       "0                   no                                no              no   \n",
       "1                   no                                no              no   \n",
       "3                   no                                no              no   \n",
       "4                   no                                no              no   \n",
       "5                   no                                no              no   \n",
       "\n",
       "  change of surroundings  \n",
       "0                     no  \n",
       "1                    yes  \n",
       "3                    yes  \n",
       "4                     no  \n",
       "5                     no  \n",
       "\n",
       "[5 rows x 32 columns]"
      ]
     },
     "execution_count": 14,
     "metadata": {},
     "output_type": "execute_result"
    }
   ],
   "source": [
    "new_levels_order = [\"<30k\", \"30-60k\", \"60-90k\", \"90-120k\", \">120k\"]\n",
    "df2 = df1.copy()\n",
    "df1.loc[:, 'Income2'] = pd.Categorical(df1['Income2'], categories = new_levels_order, ordered = True)\n",
    "df1.head()"
   ]
  },
  {
   "cell_type": "code",
   "execution_count": 15,
   "id": "7bc8688f",
   "metadata": {},
   "outputs": [
    {
     "data": {
      "image/png": "[encoded data removed]",
      "text/plain": [
       "<Figure size 576x432 with 2 Axes>"
      ]
     },
     "metadata": {
      "needs_background": "light"
     },
     "output_type": "display_data"
    }
   ],
   "source": [
    "contingency_table = pd.crosstab(df2['Income2'], df1['Income2'], rownames=['original'], colnames=['new'])\n",
    "plt.figure(figsize = (8,6))\n",
    "sns.heatmap(contingency_table, annot = True)\n",
    "\n",
    "plt.xlabel('Original')\n",
    "plt.ylabel('New')\n",
    "plt.title('Contingency Table Heatmap')\n",
    "\n",
    "plt.show()"
   ]
  },
  {
   "cell_type": "code",
   "execution_count": 16,
   "id": "08fd5fe7",
   "metadata": {},
   "outputs": [
    {
     "name": "stdout",
     "output_type": "stream",
     "text": [
      "new       <30k  30-60k  60-90k  90-120k  >120k\n",
      "original                                      \n",
      "30-60k       0     240       0        0      0\n",
      "60-90k       0       0     223        0      0\n",
      "90-120k      0       0       0      140      0\n",
      "<30k       130       0       0        0      0\n",
      ">120k        0       0       0        0    135\n"
     ]
    }
   ],
   "source": [
    "print(contingency_table)"
   ]
  },
  {
   "cell_type": "code",
   "execution_count": 17,
   "id": "2748e675",
   "metadata": {},
   "outputs": [
    {
     "data": {
      "text/html": [
       "<div>\n",
       "<style scoped>\n",
       "    .dataframe tbody tr th:only-of-type {\n",
       "        vertical-align: middle;\n",
       "    }\n",
       "\n",
       "    .dataframe tbody tr th {\n",
       "        vertical-align: top;\n",
       "    }\n",
       "\n",
       "    .dataframe thead th {\n",
       "        text-align: right;\n",
       "    }\n",
       "</style>\n",
       "<table border=\"1\" class=\"dataframe\">\n",
       "  <thead>\n",
       "    <tr style=\"text-align: right;\">\n",
       "      <th></th>\n",
       "      <th>Gender</th>\n",
       "      <th>Age</th>\n",
       "      <th>Education</th>\n",
       "      <th>Income</th>\n",
       "      <th>Income2</th>\n",
       "      <th>Occupation</th>\n",
       "      <th>State</th>\n",
       "      <th>Relationship.Status</th>\n",
       "      <th>Obligation</th>\n",
       "      <th>Obligation2</th>\n",
       "      <th>...</th>\n",
       "      <th>entertainment facilities</th>\n",
       "      <th>not care about prices</th>\n",
       "      <th>life style of the local people</th>\n",
       "      <th>intense experience of nature</th>\n",
       "      <th>cosiness/familiar atmosphere</th>\n",
       "      <th>maintain unspoilt surroundings</th>\n",
       "      <th>everything organised</th>\n",
       "      <th>unspoilt nature/natural landscape</th>\n",
       "      <th>cultural offers</th>\n",
       "      <th>change of surroundings</th>\n",
       "    </tr>\n",
       "  </thead>\n",
       "  <tbody>\n",
       "    <tr>\n",
       "      <th>0</th>\n",
       "      <td>Female</td>\n",
       "      <td>25</td>\n",
       "      <td>6.0</td>\n",
       "      <td>$30,001 to $60,000</td>\n",
       "      <td>30-60k</td>\n",
       "      <td>Clerical or service worker</td>\n",
       "      <td>VIC</td>\n",
       "      <td>single</td>\n",
       "      <td>4.800000</td>\n",
       "      <td>Q4</td>\n",
       "      <td>...</td>\n",
       "      <td>no</td>\n",
       "      <td>no</td>\n",
       "      <td>no</td>\n",
       "      <td>no</td>\n",
       "      <td>no</td>\n",
       "      <td>no</td>\n",
       "      <td>no</td>\n",
       "      <td>no</td>\n",
       "      <td>no</td>\n",
       "      <td>no</td>\n",
       "    </tr>\n",
       "    <tr>\n",
       "      <th>1</th>\n",
       "      <td>Female</td>\n",
       "      <td>31</td>\n",
       "      <td>8.0</td>\n",
       "      <td>$120,001 to $150,000</td>\n",
       "      <td>&gt;120k</td>\n",
       "      <td>professional</td>\n",
       "      <td>WA</td>\n",
       "      <td>married</td>\n",
       "      <td>3.300000</td>\n",
       "      <td>Q1</td>\n",
       "      <td>...</td>\n",
       "      <td>no</td>\n",
       "      <td>no</td>\n",
       "      <td>yes</td>\n",
       "      <td>no</td>\n",
       "      <td>no</td>\n",
       "      <td>no</td>\n",
       "      <td>no</td>\n",
       "      <td>no</td>\n",
       "      <td>no</td>\n",
       "      <td>yes</td>\n",
       "    </tr>\n",
       "    <tr>\n",
       "      <th>3</th>\n",
       "      <td>Female</td>\n",
       "      <td>18</td>\n",
       "      <td>2.0</td>\n",
       "      <td>$30,001 to $60,000</td>\n",
       "      <td>30-60k</td>\n",
       "      <td>unemployed</td>\n",
       "      <td>NSW</td>\n",
       "      <td>single</td>\n",
       "      <td>2.633333</td>\n",
       "      <td>Q1</td>\n",
       "      <td>...</td>\n",
       "      <td>yes</td>\n",
       "      <td>no</td>\n",
       "      <td>no</td>\n",
       "      <td>yes</td>\n",
       "      <td>no</td>\n",
       "      <td>no</td>\n",
       "      <td>no</td>\n",
       "      <td>no</td>\n",
       "      <td>no</td>\n",
       "      <td>yes</td>\n",
       "    </tr>\n",
       "    <tr>\n",
       "      <th>4</th>\n",
       "      <td>Male</td>\n",
       "      <td>61</td>\n",
       "      <td>3.0</td>\n",
       "      <td>Less than $30,000</td>\n",
       "      <td>&lt;30k</td>\n",
       "      <td>retired</td>\n",
       "      <td>WA</td>\n",
       "      <td>married</td>\n",
       "      <td>3.400000</td>\n",
       "      <td>Q2</td>\n",
       "      <td>...</td>\n",
       "      <td>no</td>\n",
       "      <td>no</td>\n",
       "      <td>yes</td>\n",
       "      <td>no</td>\n",
       "      <td>no</td>\n",
       "      <td>yes</td>\n",
       "      <td>no</td>\n",
       "      <td>no</td>\n",
       "      <td>no</td>\n",
       "      <td>no</td>\n",
       "    </tr>\n",
       "    <tr>\n",
       "      <th>5</th>\n",
       "      <td>Female</td>\n",
       "      <td>63</td>\n",
       "      <td>7.0</td>\n",
       "      <td>$30,001 to $60,000</td>\n",
       "      <td>30-60k</td>\n",
       "      <td>retired</td>\n",
       "      <td>QLD</td>\n",
       "      <td>married</td>\n",
       "      <td>4.400000</td>\n",
       "      <td>Q4</td>\n",
       "      <td>...</td>\n",
       "      <td>no</td>\n",
       "      <td>no</td>\n",
       "      <td>no</td>\n",
       "      <td>no</td>\n",
       "      <td>yes</td>\n",
       "      <td>no</td>\n",
       "      <td>no</td>\n",
       "      <td>no</td>\n",
       "      <td>no</td>\n",
       "      <td>no</td>\n",
       "    </tr>\n",
       "  </tbody>\n",
       "</table>\n",
       "<p>5 rows × 32 columns</p>\n",
       "</div>"
      ],
      "text/plain": [
       "   Gender  Age  Education                Income Income2  \\\n",
       "0  Female   25        6.0    $30,001 to $60,000  30-60k   \n",
       "1  Female   31        8.0  $120,001 to $150,000   >120k   \n",
       "3  Female   18        2.0    $30,001 to $60,000  30-60k   \n",
       "4    Male   61        3.0     Less than $30,000    <30k   \n",
       "5  Female   63        7.0    $30,001 to $60,000  30-60k   \n",
       "\n",
       "                   Occupation State Relationship.Status  Obligation  \\\n",
       "0  Clerical or service worker   VIC              single    4.800000   \n",
       "1                professional    WA             married    3.300000   \n",
       "3                  unemployed   NSW              single    2.633333   \n",
       "4                     retired    WA             married    3.400000   \n",
       "5                     retired   QLD             married    4.400000   \n",
       "\n",
       "  Obligation2  ...  entertainment facilities  not care about prices  \\\n",
       "0          Q4  ...                        no                     no   \n",
       "1          Q1  ...                        no                     no   \n",
       "3          Q1  ...                       yes                     no   \n",
       "4          Q2  ...                        no                     no   \n",
       "5          Q4  ...                        no                     no   \n",
       "\n",
       "  life style of the local people intense experience of nature  \\\n",
       "0                             no                           no   \n",
       "1                            yes                           no   \n",
       "3                             no                          yes   \n",
       "4                            yes                           no   \n",
       "5                             no                           no   \n",
       "\n",
       "  cosiness/familiar atmosphere maintain unspoilt surroundings  \\\n",
       "0                           no                             no   \n",
       "1                           no                             no   \n",
       "3                           no                             no   \n",
       "4                           no                            yes   \n",
       "5                          yes                             no   \n",
       "\n",
       "  everything organised unspoilt nature/natural landscape cultural offers  \\\n",
       "0                   no                                no              no   \n",
       "1                   no                                no              no   \n",
       "3                   no                                no              no   \n",
       "4                   no                                no              no   \n",
       "5                   no                                no              no   \n",
       "\n",
       "  change of surroundings  \n",
       "0                     no  \n",
       "1                    yes  \n",
       "3                    yes  \n",
       "4                     no  \n",
       "5                     no  \n",
       "\n",
       "[5 rows x 32 columns]"
      ]
     },
     "execution_count": 17,
     "metadata": {},
     "output_type": "execute_result"
    }
   ],
   "source": [
    "df2['Income2'] = df1['Income2']\n",
    "df2.head()"
   ]
  },
  {
   "cell_type": "code",
   "execution_count": 18,
   "id": "00a26f1e",
   "metadata": {},
   "outputs": [
    {
     "data": {
      "image/png": "[encoded data removed]",
      "text/plain": [
       "<Figure size 576x432 with 1 Axes>"
      ]
     },
     "metadata": {
      "needs_background": "light"
     },
     "output_type": "display_data"
    }
   ],
   "source": [
    "plt.figure(figsize=(8, 6))\n",
    "sns.histplot(df2['Age'], bins=10, kde=True, color='skyblue')\n",
    "\n",
    "plt.xlabel('Age')\n",
    "plt.ylabel('Frequency')\n",
    "plt.title('Histogram of Tourist Age')\n",
    "\n",
    "plt.show()"
   ]
  },
  {
   "cell_type": "code",
   "execution_count": 19,
   "id": "7ab1d08e",
   "metadata": {},
   "outputs": [
    {
     "data": {
      "image/png": "[encoded data removed]",
      "text/plain": [
       "<Figure size 576x432 with 1 Axes>"
      ]
     },
     "metadata": {
      "needs_background": "light"
     },
     "output_type": "display_data"
    }
   ],
   "source": [
    "plt.figure(figsize = (8, 6))\n",
    "plt.hist(df2['Age'], bins = 50, density = True, color = 'skyblue', alpha = 0.7, edgecolor='black')\n",
    "\n",
    "plt.xlabel('Age')\n",
    "plt.ylabel('Density')\n",
    "plt.title('Histogram of Age (Density)')\n",
    "\n",
    "plt.show()\n",
    "\n",
    "#we find a right skewed hist"
   ]
  },
  {
   "cell_type": "code",
   "execution_count": 20,
   "id": "164158c1",
   "metadata": {
    "scrolled": true
   },
   "outputs": [
    {
     "data": {
      "image/png": "[encoded data removed]",
      "text/plain": [
       "<Figure size 720x432 with 1 Axes>"
      ]
     },
     "metadata": {
      "needs_background": "light"
     },
     "output_type": "display_data"
    }
   ],
   "source": [
    "plt.figure(figsize=(10, 6))\n",
    "n, bins, _ = plt.hist(df2['Age'], bins=10, density=True, color='skyblue', alpha=0.7, edgecolor='black')\n",
    "\n",
    "# Calculate percentages for each bin\n",
    "percentage = (n / n.sum()) * 100\n",
    "\n",
    "plt.xlabel('Age')\n",
    "plt.ylabel('Percentage of Total')\n",
    "plt.title('Histogram of Age as Percentage of Total')\n",
    "\n",
    "#adding percentages above each bar\n",
    "for i in range(len(bins) - 1):\n",
    "    plt.text(bins[i] + 5, n[i], f'{percentage[i]:.2f}%', ha='center', va='bottom')\n",
    "\n",
    "plt.show()"
   ]
  },
  {
   "cell_type": "code",
   "execution_count": 21,
   "id": "1a466e16",
   "metadata": {
    "scrolled": true
   },
   "outputs": [
    {
     "data": {
      "text/plain": [
       "count    868.000000\n",
       "mean      44.243088\n",
       "std       14.334435\n",
       "min       18.000000\n",
       "25%       32.750000\n",
       "50%       42.000000\n",
       "75%       57.000000\n",
       "max      105.000000\n",
       "Name: Age, dtype: float64"
      ]
     },
     "execution_count": 21,
     "metadata": {},
     "output_type": "execute_result"
    }
   ],
   "source": [
    "df2['Age'].describe()"
   ]
  },
  {
   "cell_type": "code",
   "execution_count": 22,
   "id": "45449e95",
   "metadata": {
    "scrolled": true
   },
   "outputs": [
    {
     "data": {
      "image/png": "[encoded data removed]",
      "text/plain": [
       "<Figure size 576x288 with 1 Axes>"
      ]
     },
     "metadata": {
      "needs_background": "light"
     },
     "output_type": "display_data"
    }
   ],
   "source": [
    "# Create a horizontal boxplot\n",
    "plt.figure(figsize = (8, 4))\n",
    "#plt.boxplot(df2['Age'], vert = False, labels = ['Age'])\n",
    "sns.boxplot(x = 'Age', data = df2, orient = 'h', color = 'skyblue')\n",
    "\n",
    "# Add labels and title\n",
    "plt.title('Horizontal Boxplot of Age')\n",
    "\n",
    "# Show the plot\n",
    "plt.show()"
   ]
  },
  {
   "cell_type": "code",
   "execution_count": 154,
   "id": "814c5e6f",
   "metadata": {},
   "outputs": [
    {
     "data": {
      "image/png": "[encoded data removed]",
      "text/plain": [
       "<Figure size 576x432 with 1 Axes>"
      ]
     },
     "metadata": {
      "needs_background": "light"
     },
     "output_type": "display_data"
    }
   ],
   "source": [
    "# Calculate the percentage of \"yes\" values for each column\n",
    "yes_percentages = (df.iloc[:, 12:31] == 'yes').mean() * 100\n",
    "\n",
    "# Create a dot plot using Seaborn\n",
    "plt.figure(figsize = (8, 6))\n",
    "sns.scatterplot(x = yes_percentages.values, y = yes_percentages.index, color = 'blue', marker='o')\n",
    "\n",
    "# Customize the plot\n",
    "plt.xlabel(\"Percent of 'yes'\")\n",
    "plt.xlim(0, 100) #optional\n",
    "plt.ylabel(None)  # Remove the default y-axis label\n",
    "plt.title(\"Scatter Plot of Percent 'yes'\")\n",
    "\n",
    "# Show the plot\n",
    "plt.grid(linestyle = '--', alpha = 0.6)\n",
    "plt.show()"
   ]
  },
  {
   "cell_type": "code",
   "execution_count": 24,
   "id": "6fc1ad7a",
   "metadata": {},
   "outputs": [
    {
     "name": "stdout",
     "output_type": "stream",
     "text": [
      "$120,001 to $150,000     70\n",
      "$150,001 to $180,000     30\n",
      "$180,001 to $210,000     14\n",
      "$210,001 to $240,000     10\n",
      "$30,001 to $60,000      240\n",
      "$60,001 to $90,000      223\n",
      "$90,001 to $120,000     140\n",
      "Less than $30,000       130\n",
      "more than $240,001       11\n",
      "Name: Income, dtype: int64\n"
     ]
    }
   ],
   "source": [
    "# Count the frequencies of each unique value in the \"Income\" column and sort the table\n",
    "frequency_table = df2['Income'].value_counts().sort_index()\n",
    "\n",
    "# Print the sorted frequency table\n",
    "print(frequency_table)"
   ]
  },
  {
   "cell_type": "code",
   "execution_count": 25,
   "id": "278ef29e",
   "metadata": {},
   "outputs": [
    {
     "name": "stdout",
     "output_type": "stream",
     "text": [
      "<30k       130\n",
      "30-60k     240\n",
      "60-90k     223\n",
      "90-120k    140\n",
      ">120k      135\n",
      "Name: Income2, dtype: int64\n"
     ]
    }
   ],
   "source": [
    "# Count the frequencies of each unique value in the \"Income2\" column\n",
    "count_series = df2['Income2'].value_counts()\n",
    "\n",
    "# Sort the counts in ascending order by index (unique values)\n",
    "sorted_counts = count_series.sort_index()\n",
    "\n",
    "# Print the sorted counts\n",
    "print(sorted_counts)"
   ]
  },
  {
   "cell_type": "code",
   "execution_count": 26,
   "id": "5210cbd1",
   "metadata": {},
   "outputs": [
    {
     "data": {
      "text/html": [
       "<div>\n",
       "<style scoped>\n",
       "    .dataframe tbody tr th:only-of-type {\n",
       "        vertical-align: middle;\n",
       "    }\n",
       "\n",
       "    .dataframe tbody tr th {\n",
       "        vertical-align: top;\n",
       "    }\n",
       "\n",
       "    .dataframe thead th {\n",
       "        text-align: right;\n",
       "    }\n",
       "</style>\n",
       "<table border=\"1\" class=\"dataframe\">\n",
       "  <thead>\n",
       "    <tr style=\"text-align: right;\">\n",
       "      <th></th>\n",
       "      <th>rest and relax</th>\n",
       "      <th>luxury / be spoilt</th>\n",
       "      <th>do sports</th>\n",
       "      <th>excitement, a challenge</th>\n",
       "      <th>not exceed planned budget</th>\n",
       "      <th>realise creativity</th>\n",
       "      <th>fun and entertainment</th>\n",
       "      <th>good company</th>\n",
       "      <th>health and beauty</th>\n",
       "      <th>free-and-easy-going</th>\n",
       "      <th>entertainment facilities</th>\n",
       "      <th>not care about prices</th>\n",
       "      <th>life style of the local people</th>\n",
       "      <th>intense experience of nature</th>\n",
       "      <th>cosiness/familiar atmosphere</th>\n",
       "      <th>maintain unspoilt surroundings</th>\n",
       "      <th>everything organised</th>\n",
       "      <th>unspoilt nature/natural landscape</th>\n",
       "      <th>cultural offers</th>\n",
       "    </tr>\n",
       "  </thead>\n",
       "  <tbody>\n",
       "    <tr>\n",
       "      <th>0</th>\n",
       "      <td>1</td>\n",
       "      <td>0</td>\n",
       "      <td>0</td>\n",
       "      <td>0</td>\n",
       "      <td>0</td>\n",
       "      <td>0</td>\n",
       "      <td>0</td>\n",
       "      <td>0</td>\n",
       "      <td>0</td>\n",
       "      <td>0</td>\n",
       "      <td>0</td>\n",
       "      <td>0</td>\n",
       "      <td>0</td>\n",
       "      <td>0</td>\n",
       "      <td>0</td>\n",
       "      <td>0</td>\n",
       "      <td>0</td>\n",
       "      <td>0</td>\n",
       "      <td>0</td>\n",
       "    </tr>\n",
       "    <tr>\n",
       "      <th>1</th>\n",
       "      <td>1</td>\n",
       "      <td>1</td>\n",
       "      <td>0</td>\n",
       "      <td>0</td>\n",
       "      <td>0</td>\n",
       "      <td>0</td>\n",
       "      <td>1</td>\n",
       "      <td>0</td>\n",
       "      <td>0</td>\n",
       "      <td>1</td>\n",
       "      <td>0</td>\n",
       "      <td>0</td>\n",
       "      <td>1</td>\n",
       "      <td>0</td>\n",
       "      <td>0</td>\n",
       "      <td>0</td>\n",
       "      <td>0</td>\n",
       "      <td>0</td>\n",
       "      <td>0</td>\n",
       "    </tr>\n",
       "    <tr>\n",
       "      <th>2</th>\n",
       "      <td>1</td>\n",
       "      <td>0</td>\n",
       "      <td>0</td>\n",
       "      <td>0</td>\n",
       "      <td>0</td>\n",
       "      <td>0</td>\n",
       "      <td>0</td>\n",
       "      <td>0</td>\n",
       "      <td>0</td>\n",
       "      <td>0</td>\n",
       "      <td>0</td>\n",
       "      <td>1</td>\n",
       "      <td>1</td>\n",
       "      <td>0</td>\n",
       "      <td>1</td>\n",
       "      <td>0</td>\n",
       "      <td>0</td>\n",
       "      <td>0</td>\n",
       "      <td>1</td>\n",
       "    </tr>\n",
       "    <tr>\n",
       "      <th>3</th>\n",
       "      <td>1</td>\n",
       "      <td>1</td>\n",
       "      <td>0</td>\n",
       "      <td>0</td>\n",
       "      <td>1</td>\n",
       "      <td>0</td>\n",
       "      <td>1</td>\n",
       "      <td>1</td>\n",
       "      <td>0</td>\n",
       "      <td>0</td>\n",
       "      <td>1</td>\n",
       "      <td>0</td>\n",
       "      <td>0</td>\n",
       "      <td>1</td>\n",
       "      <td>0</td>\n",
       "      <td>0</td>\n",
       "      <td>0</td>\n",
       "      <td>0</td>\n",
       "      <td>0</td>\n",
       "    </tr>\n",
       "    <tr>\n",
       "      <th>4</th>\n",
       "      <td>1</td>\n",
       "      <td>0</td>\n",
       "      <td>0</td>\n",
       "      <td>0</td>\n",
       "      <td>1</td>\n",
       "      <td>0</td>\n",
       "      <td>0</td>\n",
       "      <td>0</td>\n",
       "      <td>0</td>\n",
       "      <td>1</td>\n",
       "      <td>0</td>\n",
       "      <td>0</td>\n",
       "      <td>1</td>\n",
       "      <td>0</td>\n",
       "      <td>0</td>\n",
       "      <td>1</td>\n",
       "      <td>0</td>\n",
       "      <td>0</td>\n",
       "      <td>0</td>\n",
       "    </tr>\n",
       "  </tbody>\n",
       "</table>\n",
       "</div>"
      ],
      "text/plain": [
       "   rest and relax  luxury / be spoilt  do sports  excitement, a challenge  \\\n",
       "0               1                   0          0                        0   \n",
       "1               1                   1          0                        0   \n",
       "2               1                   0          0                        0   \n",
       "3               1                   1          0                        0   \n",
       "4               1                   0          0                        0   \n",
       "\n",
       "   not exceed planned budget  realise creativity  fun and entertainment  \\\n",
       "0                          0                   0                      0   \n",
       "1                          0                   0                      1   \n",
       "2                          0                   0                      0   \n",
       "3                          1                   0                      1   \n",
       "4                          1                   0                      0   \n",
       "\n",
       "   good company  health and beauty  free-and-easy-going  \\\n",
       "0             0                  0                    0   \n",
       "1             0                  0                    1   \n",
       "2             0                  0                    0   \n",
       "3             1                  0                    0   \n",
       "4             0                  0                    1   \n",
       "\n",
       "   entertainment facilities  not care about prices  \\\n",
       "0                         0                      0   \n",
       "1                         0                      0   \n",
       "2                         0                      1   \n",
       "3                         1                      0   \n",
       "4                         0                      0   \n",
       "\n",
       "   life style of the local people  intense experience of nature  \\\n",
       "0                               0                             0   \n",
       "1                               1                             0   \n",
       "2                               1                             0   \n",
       "3                               0                             1   \n",
       "4                               1                             0   \n",
       "\n",
       "   cosiness/familiar atmosphere  maintain unspoilt surroundings  \\\n",
       "0                             0                               0   \n",
       "1                             0                               0   \n",
       "2                             1                               0   \n",
       "3                             0                               0   \n",
       "4                             0                               1   \n",
       "\n",
       "   everything organised  unspoilt nature/natural landscape  cultural offers  \n",
       "0                     0                                  0                0  \n",
       "1                     0                                  0                0  \n",
       "2                     0                                  0                1  \n",
       "3                     0                                  0                0  \n",
       "4                     0                                  0                0  "
      ]
     },
     "execution_count": 26,
     "metadata": {},
     "output_type": "execute_result"
    }
   ],
   "source": [
    "# Check if each element in columns 13 to 32 is equal to \"yes\" and convert to binary\n",
    "vacmot = (df.iloc[:, 12:31] == 'yes').astype(int)\n",
    "\n",
    "# Print the resulting binary DataFrame\n",
    "vacmot.head()"
   ]
  },
  {
   "cell_type": "code",
   "execution_count": 74,
   "id": "f8b86e4e",
   "metadata": {},
   "outputs": [
    {
     "data": {
      "text/plain": [
       "(1000, 19)"
      ]
     },
     "execution_count": 74,
     "metadata": {},
     "output_type": "execute_result"
    }
   ],
   "source": [
    "vacmot.shape"
   ]
  },
  {
   "cell_type": "code",
   "execution_count": 27,
   "id": "7d174aba",
   "metadata": {},
   "outputs": [],
   "source": [
    "from sklearn.preprocessing import MinMaxScaler\n",
    "scaler = MinMaxScaler()"
   ]
  },
  {
   "cell_type": "code",
   "execution_count": 28,
   "id": "a386a64f",
   "metadata": {},
   "outputs": [
    {
     "data": {
      "text/html": [
       "<div>\n",
       "<style scoped>\n",
       "    .dataframe tbody tr th:only-of-type {\n",
       "        vertical-align: middle;\n",
       "    }\n",
       "\n",
       "    .dataframe tbody tr th {\n",
       "        vertical-align: top;\n",
       "    }\n",
       "\n",
       "    .dataframe thead th {\n",
       "        text-align: right;\n",
       "    }\n",
       "</style>\n",
       "<table border=\"1\" class=\"dataframe\">\n",
       "  <thead>\n",
       "    <tr style=\"text-align: right;\">\n",
       "      <th></th>\n",
       "      <th>rest and relax</th>\n",
       "      <th>luxury / be spoilt</th>\n",
       "      <th>do sports</th>\n",
       "      <th>excitement, a challenge</th>\n",
       "      <th>not exceed planned budget</th>\n",
       "      <th>realise creativity</th>\n",
       "      <th>fun and entertainment</th>\n",
       "      <th>good company</th>\n",
       "      <th>health and beauty</th>\n",
       "      <th>free-and-easy-going</th>\n",
       "      <th>entertainment facilities</th>\n",
       "      <th>not care about prices</th>\n",
       "      <th>life style of the local people</th>\n",
       "      <th>intense experience of nature</th>\n",
       "      <th>cosiness/familiar atmosphere</th>\n",
       "      <th>maintain unspoilt surroundings</th>\n",
       "      <th>everything organised</th>\n",
       "      <th>unspoilt nature/natural landscape</th>\n",
       "      <th>cultural offers</th>\n",
       "    </tr>\n",
       "  </thead>\n",
       "  <tbody>\n",
       "    <tr>\n",
       "      <th>0</th>\n",
       "      <td>1.0</td>\n",
       "      <td>0.0</td>\n",
       "      <td>0.0</td>\n",
       "      <td>0.0</td>\n",
       "      <td>0.0</td>\n",
       "      <td>0.0</td>\n",
       "      <td>0.0</td>\n",
       "      <td>0.0</td>\n",
       "      <td>0.0</td>\n",
       "      <td>0.0</td>\n",
       "      <td>0.0</td>\n",
       "      <td>0.0</td>\n",
       "      <td>0.0</td>\n",
       "      <td>0.0</td>\n",
       "      <td>0.0</td>\n",
       "      <td>0.0</td>\n",
       "      <td>0.0</td>\n",
       "      <td>0.0</td>\n",
       "      <td>0.0</td>\n",
       "    </tr>\n",
       "    <tr>\n",
       "      <th>1</th>\n",
       "      <td>1.0</td>\n",
       "      <td>1.0</td>\n",
       "      <td>0.0</td>\n",
       "      <td>0.0</td>\n",
       "      <td>0.0</td>\n",
       "      <td>0.0</td>\n",
       "      <td>1.0</td>\n",
       "      <td>0.0</td>\n",
       "      <td>0.0</td>\n",
       "      <td>1.0</td>\n",
       "      <td>0.0</td>\n",
       "      <td>0.0</td>\n",
       "      <td>1.0</td>\n",
       "      <td>0.0</td>\n",
       "      <td>0.0</td>\n",
       "      <td>0.0</td>\n",
       "      <td>0.0</td>\n",
       "      <td>0.0</td>\n",
       "      <td>0.0</td>\n",
       "    </tr>\n",
       "    <tr>\n",
       "      <th>2</th>\n",
       "      <td>1.0</td>\n",
       "      <td>0.0</td>\n",
       "      <td>0.0</td>\n",
       "      <td>0.0</td>\n",
       "      <td>0.0</td>\n",
       "      <td>0.0</td>\n",
       "      <td>0.0</td>\n",
       "      <td>0.0</td>\n",
       "      <td>0.0</td>\n",
       "      <td>0.0</td>\n",
       "      <td>0.0</td>\n",
       "      <td>1.0</td>\n",
       "      <td>1.0</td>\n",
       "      <td>0.0</td>\n",
       "      <td>1.0</td>\n",
       "      <td>0.0</td>\n",
       "      <td>0.0</td>\n",
       "      <td>0.0</td>\n",
       "      <td>1.0</td>\n",
       "    </tr>\n",
       "    <tr>\n",
       "      <th>3</th>\n",
       "      <td>1.0</td>\n",
       "      <td>1.0</td>\n",
       "      <td>0.0</td>\n",
       "      <td>0.0</td>\n",
       "      <td>1.0</td>\n",
       "      <td>0.0</td>\n",
       "      <td>1.0</td>\n",
       "      <td>1.0</td>\n",
       "      <td>0.0</td>\n",
       "      <td>0.0</td>\n",
       "      <td>1.0</td>\n",
       "      <td>0.0</td>\n",
       "      <td>0.0</td>\n",
       "      <td>1.0</td>\n",
       "      <td>0.0</td>\n",
       "      <td>0.0</td>\n",
       "      <td>0.0</td>\n",
       "      <td>0.0</td>\n",
       "      <td>0.0</td>\n",
       "    </tr>\n",
       "    <tr>\n",
       "      <th>4</th>\n",
       "      <td>1.0</td>\n",
       "      <td>0.0</td>\n",
       "      <td>0.0</td>\n",
       "      <td>0.0</td>\n",
       "      <td>1.0</td>\n",
       "      <td>0.0</td>\n",
       "      <td>0.0</td>\n",
       "      <td>0.0</td>\n",
       "      <td>0.0</td>\n",
       "      <td>1.0</td>\n",
       "      <td>0.0</td>\n",
       "      <td>0.0</td>\n",
       "      <td>1.0</td>\n",
       "      <td>0.0</td>\n",
       "      <td>0.0</td>\n",
       "      <td>1.0</td>\n",
       "      <td>0.0</td>\n",
       "      <td>0.0</td>\n",
       "      <td>0.0</td>\n",
       "    </tr>\n",
       "  </tbody>\n",
       "</table>\n",
       "</div>"
      ],
      "text/plain": [
       "   rest and relax  luxury / be spoilt  do sports  excitement, a challenge  \\\n",
       "0             1.0                 0.0        0.0                      0.0   \n",
       "1             1.0                 1.0        0.0                      0.0   \n",
       "2             1.0                 0.0        0.0                      0.0   \n",
       "3             1.0                 1.0        0.0                      0.0   \n",
       "4             1.0                 0.0        0.0                      0.0   \n",
       "\n",
       "   not exceed planned budget  realise creativity  fun and entertainment  \\\n",
       "0                        0.0                 0.0                    0.0   \n",
       "1                        0.0                 0.0                    1.0   \n",
       "2                        0.0                 0.0                    0.0   \n",
       "3                        1.0                 0.0                    1.0   \n",
       "4                        1.0                 0.0                    0.0   \n",
       "\n",
       "   good company  health and beauty  free-and-easy-going  \\\n",
       "0           0.0                0.0                  0.0   \n",
       "1           0.0                0.0                  1.0   \n",
       "2           0.0                0.0                  0.0   \n",
       "3           1.0                0.0                  0.0   \n",
       "4           0.0                0.0                  1.0   \n",
       "\n",
       "   entertainment facilities  not care about prices  \\\n",
       "0                       0.0                    0.0   \n",
       "1                       0.0                    0.0   \n",
       "2                       0.0                    1.0   \n",
       "3                       1.0                    0.0   \n",
       "4                       0.0                    0.0   \n",
       "\n",
       "   life style of the local people  intense experience of nature  \\\n",
       "0                             0.0                           0.0   \n",
       "1                             1.0                           0.0   \n",
       "2                             1.0                           0.0   \n",
       "3                             0.0                           1.0   \n",
       "4                             1.0                           0.0   \n",
       "\n",
       "   cosiness/familiar atmosphere  maintain unspoilt surroundings  \\\n",
       "0                           0.0                             0.0   \n",
       "1                           0.0                             0.0   \n",
       "2                           1.0                             0.0   \n",
       "3                           0.0                             0.0   \n",
       "4                           0.0                             1.0   \n",
       "\n",
       "   everything organised  unspoilt nature/natural landscape  cultural offers  \n",
       "0                   0.0                                0.0              0.0  \n",
       "1                   0.0                                0.0              0.0  \n",
       "2                   0.0                                0.0              1.0  \n",
       "3                   0.0                                0.0              0.0  \n",
       "4                   0.0                                0.0              0.0  "
      ]
     },
     "execution_count": 28,
     "metadata": {},
     "output_type": "execute_result"
    }
   ],
   "source": [
    "# Scale the DataFrame\n",
    "vacmot_scaled = scaler.fit_transform(vacmot)\n",
    "\n",
    "# Create a new DataFrame with scaled values\n",
    "df3 = pd.DataFrame(vacmot_scaled, columns = vacmot.columns)\n",
    "\n",
    "# Print the scaled DataFrame\n",
    "df3.head()"
   ]
  },
  {
   "cell_type": "code",
   "execution_count": 29,
   "id": "81a793b8",
   "metadata": {},
   "outputs": [
    {
     "data": {
      "text/html": [
       "<div>\n",
       "<style scoped>\n",
       "    .dataframe tbody tr th:only-of-type {\n",
       "        vertical-align: middle;\n",
       "    }\n",
       "\n",
       "    .dataframe tbody tr th {\n",
       "        vertical-align: top;\n",
       "    }\n",
       "\n",
       "    .dataframe thead th {\n",
       "        text-align: right;\n",
       "    }\n",
       "</style>\n",
       "<table border=\"1\" class=\"dataframe\">\n",
       "  <thead>\n",
       "    <tr style=\"text-align: right;\">\n",
       "      <th></th>\n",
       "      <th>rest and relax</th>\n",
       "      <th>luxury / be spoilt</th>\n",
       "      <th>do sports</th>\n",
       "      <th>excitement, a challenge</th>\n",
       "      <th>not exceed planned budget</th>\n",
       "      <th>realise creativity</th>\n",
       "      <th>fun and entertainment</th>\n",
       "      <th>good company</th>\n",
       "      <th>health and beauty</th>\n",
       "      <th>free-and-easy-going</th>\n",
       "      <th>entertainment facilities</th>\n",
       "      <th>not care about prices</th>\n",
       "      <th>life style of the local people</th>\n",
       "      <th>intense experience of nature</th>\n",
       "      <th>cosiness/familiar atmosphere</th>\n",
       "      <th>maintain unspoilt surroundings</th>\n",
       "      <th>everything organised</th>\n",
       "      <th>unspoilt nature/natural landscape</th>\n",
       "      <th>cultural offers</th>\n",
       "    </tr>\n",
       "  </thead>\n",
       "  <tbody>\n",
       "    <tr>\n",
       "      <th>0</th>\n",
       "      <td>0.335182</td>\n",
       "      <td>-0.617426</td>\n",
       "      <td>-0.395056</td>\n",
       "      <td>-0.708168</td>\n",
       "      <td>-1.028403</td>\n",
       "      <td>-0.290859</td>\n",
       "      <td>-1.061913</td>\n",
       "      <td>-0.917399</td>\n",
       "      <td>-0.377964</td>\n",
       "      <td>-1.045012</td>\n",
       "      <td>-0.482748</td>\n",
       "      <td>-0.470108</td>\n",
       "      <td>-0.921102</td>\n",
       "      <td>-0.523341</td>\n",
       "      <td>-0.484322</td>\n",
       "      <td>-0.657773</td>\n",
       "      <td>-0.438058</td>\n",
       "      <td>-0.597371</td>\n",
       "      <td>-0.628252</td>\n",
       "    </tr>\n",
       "    <tr>\n",
       "      <th>1</th>\n",
       "      <td>0.335182</td>\n",
       "      <td>1.619626</td>\n",
       "      <td>-0.395056</td>\n",
       "      <td>-0.708168</td>\n",
       "      <td>-1.028403</td>\n",
       "      <td>-0.290859</td>\n",
       "      <td>0.941697</td>\n",
       "      <td>-0.917399</td>\n",
       "      <td>-0.377964</td>\n",
       "      <td>0.956927</td>\n",
       "      <td>-0.482748</td>\n",
       "      <td>-0.470108</td>\n",
       "      <td>1.085656</td>\n",
       "      <td>-0.523341</td>\n",
       "      <td>-0.484322</td>\n",
       "      <td>-0.657773</td>\n",
       "      <td>-0.438058</td>\n",
       "      <td>-0.597371</td>\n",
       "      <td>-0.628252</td>\n",
       "    </tr>\n",
       "    <tr>\n",
       "      <th>2</th>\n",
       "      <td>0.335182</td>\n",
       "      <td>-0.617426</td>\n",
       "      <td>-0.395056</td>\n",
       "      <td>-0.708168</td>\n",
       "      <td>-1.028403</td>\n",
       "      <td>-0.290859</td>\n",
       "      <td>-1.061913</td>\n",
       "      <td>-0.917399</td>\n",
       "      <td>-0.377964</td>\n",
       "      <td>-1.045012</td>\n",
       "      <td>-0.482748</td>\n",
       "      <td>2.127172</td>\n",
       "      <td>1.085656</td>\n",
       "      <td>-0.523341</td>\n",
       "      <td>2.064742</td>\n",
       "      <td>-0.657773</td>\n",
       "      <td>-0.438058</td>\n",
       "      <td>-0.597371</td>\n",
       "      <td>1.591719</td>\n",
       "    </tr>\n",
       "    <tr>\n",
       "      <th>3</th>\n",
       "      <td>0.335182</td>\n",
       "      <td>1.619626</td>\n",
       "      <td>-0.395056</td>\n",
       "      <td>-0.708168</td>\n",
       "      <td>0.972381</td>\n",
       "      <td>-0.290859</td>\n",
       "      <td>0.941697</td>\n",
       "      <td>1.090038</td>\n",
       "      <td>-0.377964</td>\n",
       "      <td>-1.045012</td>\n",
       "      <td>2.071474</td>\n",
       "      <td>-0.470108</td>\n",
       "      <td>-0.921102</td>\n",
       "      <td>1.910802</td>\n",
       "      <td>-0.484322</td>\n",
       "      <td>-0.657773</td>\n",
       "      <td>-0.438058</td>\n",
       "      <td>-0.597371</td>\n",
       "      <td>-0.628252</td>\n",
       "    </tr>\n",
       "    <tr>\n",
       "      <th>4</th>\n",
       "      <td>0.335182</td>\n",
       "      <td>-0.617426</td>\n",
       "      <td>-0.395056</td>\n",
       "      <td>-0.708168</td>\n",
       "      <td>0.972381</td>\n",
       "      <td>-0.290859</td>\n",
       "      <td>-1.061913</td>\n",
       "      <td>-0.917399</td>\n",
       "      <td>-0.377964</td>\n",
       "      <td>0.956927</td>\n",
       "      <td>-0.482748</td>\n",
       "      <td>-0.470108</td>\n",
       "      <td>1.085656</td>\n",
       "      <td>-0.523341</td>\n",
       "      <td>-0.484322</td>\n",
       "      <td>1.520282</td>\n",
       "      <td>-0.438058</td>\n",
       "      <td>-0.597371</td>\n",
       "      <td>-0.628252</td>\n",
       "    </tr>\n",
       "  </tbody>\n",
       "</table>\n",
       "</div>"
      ],
      "text/plain": [
       "   rest and relax  luxury / be spoilt  do sports  excitement, a challenge  \\\n",
       "0        0.335182           -0.617426  -0.395056                -0.708168   \n",
       "1        0.335182            1.619626  -0.395056                -0.708168   \n",
       "2        0.335182           -0.617426  -0.395056                -0.708168   \n",
       "3        0.335182            1.619626  -0.395056                -0.708168   \n",
       "4        0.335182           -0.617426  -0.395056                -0.708168   \n",
       "\n",
       "   not exceed planned budget  realise creativity  fun and entertainment  \\\n",
       "0                  -1.028403           -0.290859              -1.061913   \n",
       "1                  -1.028403           -0.290859               0.941697   \n",
       "2                  -1.028403           -0.290859              -1.061913   \n",
       "3                   0.972381           -0.290859               0.941697   \n",
       "4                   0.972381           -0.290859              -1.061913   \n",
       "\n",
       "   good company  health and beauty  free-and-easy-going  \\\n",
       "0     -0.917399          -0.377964            -1.045012   \n",
       "1     -0.917399          -0.377964             0.956927   \n",
       "2     -0.917399          -0.377964            -1.045012   \n",
       "3      1.090038          -0.377964            -1.045012   \n",
       "4     -0.917399          -0.377964             0.956927   \n",
       "\n",
       "   entertainment facilities  not care about prices  \\\n",
       "0                 -0.482748              -0.470108   \n",
       "1                 -0.482748              -0.470108   \n",
       "2                 -0.482748               2.127172   \n",
       "3                  2.071474              -0.470108   \n",
       "4                 -0.482748              -0.470108   \n",
       "\n",
       "   life style of the local people  intense experience of nature  \\\n",
       "0                       -0.921102                     -0.523341   \n",
       "1                        1.085656                     -0.523341   \n",
       "2                        1.085656                     -0.523341   \n",
       "3                       -0.921102                      1.910802   \n",
       "4                        1.085656                     -0.523341   \n",
       "\n",
       "   cosiness/familiar atmosphere  maintain unspoilt surroundings  \\\n",
       "0                     -0.484322                       -0.657773   \n",
       "1                     -0.484322                       -0.657773   \n",
       "2                      2.064742                       -0.657773   \n",
       "3                     -0.484322                       -0.657773   \n",
       "4                     -0.484322                        1.520282   \n",
       "\n",
       "   everything organised  unspoilt nature/natural landscape  cultural offers  \n",
       "0             -0.438058                          -0.597371        -0.628252  \n",
       "1             -0.438058                          -0.597371        -0.628252  \n",
       "2             -0.438058                          -0.597371         1.591719  \n",
       "3             -0.438058                          -0.597371        -0.628252  \n",
       "4             -0.438058                          -0.597371        -0.628252  "
      ]
     },
     "execution_count": 29,
     "metadata": {},
     "output_type": "execute_result"
    }
   ],
   "source": [
    "from sklearn.preprocessing import StandardScaler\n",
    "scaler = StandardScaler()\n",
    "\n",
    "# Scale the DataFrame\n",
    "vacmot_scaled = scaler.fit_transform(vacmot)\n",
    "\n",
    "# Create a new DataFrame with scaled values\n",
    "df4 = pd.DataFrame(vacmot_scaled, columns = vacmot.columns)\n",
    "\n",
    "# Print the scaled DataFrame\n",
    "df4.head()"
   ]
  },
  {
   "cell_type": "code",
   "execution_count": 100,
   "id": "7c68fd17",
   "metadata": {},
   "outputs": [],
   "source": [
    "from sklearn.decomposition import PCA\n",
    "pca = PCA(10)"
   ]
  },
  {
   "cell_type": "code",
   "execution_count": 101,
   "id": "bfdcab90",
   "metadata": {},
   "outputs": [
    {
     "data": {
      "text/plain": [
       "(1000, 10)"
      ]
     },
     "execution_count": 101,
     "metadata": {},
     "output_type": "execute_result"
    }
   ],
   "source": [
    "vacmot_pca = pca.fit_transform(vacmot_scaled)\n",
    "vacmot_pca.shape"
   ]
  },
  {
   "cell_type": "code",
   "execution_count": 102,
   "id": "ae5cfce1",
   "metadata": {},
   "outputs": [
    {
     "data": {
      "text/plain": [
       "(1000, 19)"
      ]
     },
     "execution_count": 102,
     "metadata": {},
     "output_type": "execute_result"
    }
   ],
   "source": [
    "vacmot.shape"
   ]
  },
  {
   "cell_type": "code",
   "execution_count": 113,
   "id": "dd9b7c99",
   "metadata": {},
   "outputs": [
    {
     "data": {
      "text/plain": [
       "array([0.16604573, 0.09080228, 0.07434528, 0.06482214, 0.05780632,\n",
       "       0.05315771, 0.05200797, 0.04722253, 0.04361476, 0.04118379])"
      ]
     },
     "execution_count": 113,
     "metadata": {},
     "output_type": "execute_result"
    }
   ],
   "source": [
    "explained_variances = pca.explained_variance_ratio_\n",
    "explained_variances"
   ]
  },
  {
   "cell_type": "code",
   "execution_count": 104,
   "id": "37b81b6b",
   "metadata": {},
   "outputs": [
    {
     "data": {
      "text/plain": [
       "array([0.40748709, 0.30133416, 0.27266332, 0.25460192, 0.24042944,\n",
       "       0.23055957, 0.22805255, 0.21730746, 0.20884147, 0.20293789])"
      ]
     },
     "execution_count": 104,
     "metadata": {},
     "output_type": "execute_result"
    }
   ],
   "source": [
    "std_deviations = np.sqrt(explained_variances)\n",
    "std_deviations"
   ]
  },
  {
   "cell_type": "code",
   "execution_count": 105,
   "id": "25b08fcf",
   "metadata": {},
   "outputs": [
    {
     "name": "stdout",
     "output_type": "stream",
     "text": [
      "[[ 0.11373296  0.1485681   0.16569697  0.26320274  0.22214516  0.24626529\n",
      "   0.22664041  0.23411694  0.26622916  0.26653565  0.15610645  0.07951794\n",
      "   0.27932618  0.2999985   0.18827449  0.31431569  0.1497128   0.3044621\n",
      "   0.24920471]\n",
      " [-0.00237808  0.42040467  0.25090808  0.15272244 -0.18942773 -0.04213952\n",
      "   0.30768996 -0.06497632  0.09854414 -0.00087342  0.40591561  0.36027638\n",
      "  -0.22273647 -0.23353436 -0.01911197 -0.29119098  0.26324469 -0.15793307\n",
      "  -0.11222938]\n",
      " [-0.40697976 -0.05610334  0.04541162  0.26900341 -0.31677812  0.02102603\n",
      "   0.01094495  0.01207993 -0.14817785 -0.1436242  -0.02144446  0.28590206\n",
      "   0.37270038  0.04032875 -0.3798857  -0.03664448 -0.21297054 -0.05632861\n",
      "   0.44298634]\n",
      " [-0.04699877  0.25046449 -0.03261775 -0.21167965 -0.41174999  0.03382238\n",
      "  -0.39570943 -0.31312147  0.2735596  -0.12540643 -0.13959835  0.31316086\n",
      "  -0.12454469  0.25504241  0.09211334  0.25135676  0.09822969  0.30257474\n",
      "  -0.0482779 ]\n",
      " [-0.47858152 -0.09111576  0.00556237  0.19471263  0.11161887  0.34860633\n",
      "  -0.13432644  0.0566344   0.25503006 -0.40823587  0.05377876 -0.34522587\n",
      "  -0.19854456  0.11263041  0.04893181 -0.14762781  0.36623504 -0.06733146\n",
      "   0.02742488]\n",
      " [-0.03903526 -0.00655438  0.59186264  0.21717326  0.14167721 -0.27308066\n",
      "   0.02532501 -0.35746502 -0.16739387 -0.17168061  0.12791631 -0.26318172\n",
      "  -0.1362923   0.12842055 -0.18830153  0.24321304 -0.17367391  0.23932094\n",
      "  -0.13290167]\n",
      " [ 0.01497163  0.15842418 -0.35072921 -0.17332461  0.25695283 -0.29496538\n",
      "  -0.00761603 -0.33142861 -0.22733058 -0.12864283  0.25322895 -0.0989271\n",
      "   0.21572666 -0.05659013 -0.04787784 -0.06921449  0.42264207  0.24061744\n",
      "   0.35100837]\n",
      " [ 0.45861399  0.2415542   0.03558016 -0.00748596  0.04248824  0.41499941\n",
      "  -0.0253389  -0.2581409   0.26049305 -0.03770764 -0.17751465 -0.23466576\n",
      "   0.06619975 -0.11566562 -0.50232538 -0.1758214  -0.08313963 -0.03381026\n",
      "   0.15419482]\n",
      " [ 0.11293998  0.27002332  0.34549577 -0.03512485 -0.02954126 -0.28086207\n",
      "  -0.07907762  0.15113932  0.10848822 -0.2987085  -0.35021495 -0.13952767\n",
      "   0.17954185 -0.15794681  0.46974359 -0.21083595 -0.07614138 -0.07171607\n",
      "   0.32943796]\n",
      " [ 0.06525185  0.12290124 -0.01815337 -0.33378229 -0.16158859  0.25958309\n",
      "  -0.00099729  0.34773347 -0.14853111 -0.37010664  0.48782339 -0.13473306\n",
      "   0.0558818  -0.0990134   0.03389955  0.00632936 -0.34435556  0.32278878\n",
      "  -0.04928903]]\n"
     ]
    }
   ],
   "source": [
    "rotation_matrix = pca.components_\n",
    "print(rotation_matrix)"
   ]
  },
  {
   "cell_type": "code",
   "execution_count": 106,
   "id": "7b4a2ecf",
   "metadata": {},
   "outputs": [
    {
     "name": "stdout",
     "output_type": "stream",
     "text": [
      "Standard Deviation (PC1): 0.4074870871323222\n",
      "Standard Deviation (PC2): 0.3013341604950532\n",
      "Standard Deviation (PC3): 0.27266331679579225\n",
      "Standard Deviation (PC4): 0.2546019182644939\n",
      "Standard Deviation (PC5): 0.2404294434114319\n",
      "Standard Deviation (PC6): 0.2305595673229325\n",
      "Standard Deviation (PC7): 0.22805255060415233\n",
      "Standard Deviation (PC8): 0.2173074626475636\n",
      "Standard Deviation (PC9): 0.20884146980665622\n",
      "Standard Deviation (PC10): 0.20293789248649766\n"
     ]
    }
   ],
   "source": [
    "for i, std_dev in enumerate(std_deviations):\n",
    "    print(f'Standard Deviation (PC{i+1}): {std_dev}')"
   ]
  },
  {
   "cell_type": "code",
   "execution_count": 108,
   "id": "be195289",
   "metadata": {},
   "outputs": [
    {
     "name": "stdout",
     "output_type": "stream",
     "text": [
      "  Principal Component  Standard Deviation  Proportion of Variance  \\\n",
      "0                 PC1                0.41                    0.17   \n",
      "1                 PC2                0.30                    0.09   \n",
      "2                 PC3                0.27                    0.07   \n",
      "3                 PC4                0.25                    0.06   \n",
      "4                 PC5                0.24                    0.06   \n",
      "5                 PC6                0.23                    0.05   \n",
      "6                 PC7                0.23                    0.05   \n",
      "7                 PC8                0.22                    0.05   \n",
      "8                 PC9                0.21                    0.04   \n",
      "9                PC10                0.20                    0.04   \n",
      "\n",
      "   Cumulative Proportion  \n",
      "0                   0.17  \n",
      "1                   0.26  \n",
      "2                   0.33  \n",
      "3                   0.40  \n",
      "4                   0.45  \n",
      "5                   0.51  \n",
      "6                   0.56  \n",
      "7                   0.61  \n",
      "8                   0.65  \n",
      "9                   0.69  \n"
     ]
    }
   ],
   "source": [
    "# Create a summary DataFrame\n",
    "summary_df = pd.DataFrame({\n",
    "    'Principal Component': [f'PC{i+1}' for i in range(10)],\n",
    "    'Standard Deviation': std_deviations,\n",
    "    'Proportion of Variance': explained_variances,\n",
    "    'Cumulative Proportion': np.cumsum(explained_variances)\n",
    "})\n",
    "\n",
    "# Print the summary with the specified number of digits\n",
    "#summary_df = summary_df.round({'Standard Deviation': 2,'Variance Explained Ratio': 2,'Cumulative Variance Explained': 2})\n",
    "pd.set_option('display.float_format', lambda x: f'{x:.2f}')\n",
    "print(summary_df)"
   ]
  },
  {
   "cell_type": "code",
   "execution_count": 109,
   "id": "81df8926",
   "metadata": {},
   "outputs": [
    {
     "data": {
      "text/plain": [
       "array([ 1,  2,  3,  4,  5,  6,  7,  8,  9, 10])"
      ]
     },
     "execution_count": 109,
     "metadata": {},
     "output_type": "execute_result"
    }
   ],
   "source": [
    "pc_num = np.arange(pca.n_components_) + 1\n",
    "pc_num"
   ]
  },
  {
   "cell_type": "code",
   "execution_count": 114,
   "id": "dd381245",
   "metadata": {},
   "outputs": [
    {
     "data": {
      "image/png": "[encoded data removed]",
      "text/plain": [
       "<Figure size 576x432 with 1 Axes>"
      ]
     },
     "metadata": {
      "needs_background": "light"
     },
     "output_type": "display_data"
    }
   ],
   "source": [
    "#plotting scree plot/ elbow method\n",
    "plt.figure(figsize = (8,6))\n",
    "plt.plot(pc_num, explained_variances, 'bo-')\n",
    "\n",
    "plt.title('Scree Plot')\n",
    "plt.xlabel('Component Number')\n",
    "plt.ylabel('Proportion of Variance')\n",
    "\n",
    "plt.grid()\n",
    "plt.show()"
   ]
  },
  {
   "cell_type": "code",
   "execution_count": 115,
   "id": "a13fb2a7",
   "metadata": {},
   "outputs": [
    {
     "data": {
      "text/plain": [
       "array([3.15802682, 1.72697022, 1.41397438, 1.23285345, 1.09941945,\n",
       "       1.01100758, 0.98914049, 0.89812626, 0.82950994, 0.78327525])"
      ]
     },
     "execution_count": 115,
     "metadata": {},
     "output_type": "execute_result"
    }
   ],
   "source": [
    "var = pca.explained_variance_\n",
    "var"
   ]
  },
  {
   "cell_type": "code",
   "execution_count": 116,
   "id": "0b16ba0e",
   "metadata": {},
   "outputs": [
    {
     "data": {
      "image/png": "[encoded data removed]",
      "text/plain": [
       "<Figure size 576x432 with 1 Axes>"
      ]
     },
     "metadata": {
      "needs_background": "light"
     },
     "output_type": "display_data"
    }
   ],
   "source": [
    "#Alt scree plot Kaiser rule\n",
    "plt.figure(figsize = (8,6))\n",
    "plt.plot(pc_num, var, 'bo-')\n",
    "\n",
    "plt.title('Scree Plot')\n",
    "plt.xlabel('Component Number')\n",
    "plt.ylabel('Variance')\n",
    "\n",
    "plt.axhline(y = 1, color = 'g', linestyle = '-')\n",
    "\n",
    "plt.grid()\n",
    "plt.show()"
   ]
  },
  {
   "cell_type": "code",
   "execution_count": 133,
   "id": "03e8f831",
   "metadata": {},
   "outputs": [
    {
     "data": {
      "text/plain": [
       "array([[-2.66874314, -0.3506187 , -0.22923145,  0.62304645,  0.16609248,\n",
       "         0.15230092],\n",
       "       [-0.78815031,  0.74835702,  0.10469478, -0.01891733, -1.51800904,\n",
       "        -0.3546355 ],\n",
       "       [-0.86842341, -0.15475904,  1.29111134,  1.25838207, -0.93557737,\n",
       "        -1.62247213],\n",
       "       ...,\n",
       "       [-1.22173412, -0.861959  , -1.14806885, -1.05166788, -0.34907752,\n",
       "        -0.66422156],\n",
       "       [-1.77754375,  0.90802887,  0.21382136,  0.78346749,  0.39550412,\n",
       "         0.67736416],\n",
       "       [-0.01611637,  1.03811163,  0.07230908,  1.14147707,  0.41783775,\n",
       "         0.40395014]])"
      ]
     },
     "execution_count": 133,
     "metadata": {},
     "output_type": "execute_result"
    }
   ],
   "source": [
    "l = 6\n",
    "pca = PCA(n_components = l)\n",
    "PC = pca.fit_transform(vacmot_scaled)\n",
    "PC"
   ]
  },
  {
   "cell_type": "code",
   "execution_count": 134,
   "id": "10ca48d0",
   "metadata": {},
   "outputs": [
    {
     "data": {
      "text/plain": [
       "(1000, 6)"
      ]
     },
     "execution_count": 134,
     "metadata": {},
     "output_type": "execute_result"
    }
   ],
   "source": [
    "PC.shape"
   ]
  },
  {
   "cell_type": "code",
   "execution_count": 138,
   "id": "5e8ac624",
   "metadata": {},
   "outputs": [
    {
     "data": {
      "text/plain": [
       "array([1.7770838 , 1.31414239, 1.18910655, 1.11033934, 1.04853204,\n",
       "       1.00548872, 0.99455542, 0.94769524, 0.91077436, 0.88502839])"
      ]
     },
     "execution_count": 138,
     "metadata": {},
     "output_type": "execute_result"
    }
   ],
   "source": [
    "std_devi = np.sqrt(var)\n",
    "std_devi"
   ]
  },
  {
   "cell_type": "code",
   "execution_count": 139,
   "id": "645ef49c",
   "metadata": {},
   "outputs": [
    {
     "name": "stdout",
     "output_type": "stream",
     "text": [
      "Standard Deviation (PC1): 1.7770837977530338\n",
      "Standard Deviation (PC2): 1.3141423893792765\n",
      "Standard Deviation (PC3): 1.1891065455089131\n",
      "Standard Deviation (PC4): 1.1103393410789282\n",
      "Standard Deviation (PC5): 1.0485320440362607\n",
      "Standard Deviation (PC6): 1.0054887245383675\n",
      "Standard Deviation (PC7): 0.9945554239938191\n",
      "Standard Deviation (PC8): 0.9476952354968902\n",
      "Standard Deviation (PC9): 0.9107743631930661\n",
      "Standard Deviation (PC10): 0.8850283900426844\n"
     ]
    }
   ],
   "source": [
    "for i, std_dev in enumerate(std_devi):\n",
    "    print(f'Standard Deviation (PC{i+1}): {std_dev}')"
   ]
  },
  {
   "cell_type": "code",
   "execution_count": null,
   "id": "4fe8b584",
   "metadata": {},
   "outputs": [],
   "source": []
  },
  {
   "cell_type": "code",
   "execution_count": 146,
   "id": "d80fb2bf",
   "metadata": {},
   "outputs": [
    {
     "name": "stdout",
     "output_type": "stream",
     "text": [
      "<class 'pandas.core.frame.DataFrame'>\n",
      "RangeIndex: 1000 entries, 0 to 999\n",
      "Data columns (total 19 columns):\n",
      " #   Column                             Non-Null Count  Dtype\n",
      "---  ------                             --------------  -----\n",
      " 0   rest and relax                     1000 non-null   int64\n",
      " 1   luxury / be spoilt                 1000 non-null   int64\n",
      " 2   do sports                          1000 non-null   int64\n",
      " 3   excitement, a challenge            1000 non-null   int64\n",
      " 4   not exceed planned budget          1000 non-null   int64\n",
      " 5   realise creativity                 1000 non-null   int64\n",
      " 6   fun and entertainment              1000 non-null   int64\n",
      " 7   good company                       1000 non-null   int64\n",
      " 8   health and beauty                  1000 non-null   int64\n",
      " 9   free-and-easy-going                1000 non-null   int64\n",
      " 10  entertainment facilities           1000 non-null   int64\n",
      " 11  not care about prices              1000 non-null   int64\n",
      " 12  life style of the local people     1000 non-null   int64\n",
      " 13  intense experience of nature       1000 non-null   int64\n",
      " 14  cosiness/familiar atmosphere       1000 non-null   int64\n",
      " 15  maintain unspoilt surroundings     1000 non-null   int64\n",
      " 16  everything organised               1000 non-null   int64\n",
      " 17  unspoilt nature/natural landscape  1000 non-null   int64\n",
      " 18  cultural offers                    1000 non-null   int64\n",
      "dtypes: int64(19)\n",
      "memory usage: 148.6 KB\n"
     ]
    }
   ],
   "source": [
    "#feature selection\n",
    "vacmot.info()"
   ]
  },
  {
   "cell_type": "code",
   "execution_count": 152,
   "id": "7534c432",
   "metadata": {},
   "outputs": [
    {
     "data": {
      "image/png": "[encoded data removed]",
      "text/plain": [
       "<Figure size 1296x1296 with 2 Axes>"
      ]
     },
     "metadata": {
      "needs_background": "light"
     },
     "output_type": "display_data"
    }
   ],
   "source": [
    "corr = vacmot.corr()\n",
    "\n",
    "f, ax = plt.subplots(figsize = (18,18))\n",
    "\n",
    "cmap = sns.diverging_palette(220, 10, as_cmap = True)\n",
    "\n",
    "heatmap = sns.heatmap(corr, cmap = cmap, center = 0.0, vmax = 1, linewidth = 1, ax = ax)\n",
    "\n",
    "plt.show()"
   ]
  },
  {
   "cell_type": "code",
   "execution_count": 156,
   "id": "2e70e110",
   "metadata": {},
   "outputs": [
    {
     "data": {
      "text/html": [
       "<div>\n",
       "<style scoped>\n",
       "    .dataframe tbody tr th:only-of-type {\n",
       "        vertical-align: middle;\n",
       "    }\n",
       "\n",
       "    .dataframe tbody tr th {\n",
       "        vertical-align: top;\n",
       "    }\n",
       "\n",
       "    .dataframe thead th {\n",
       "        text-align: right;\n",
       "    }\n",
       "</style>\n",
       "<table border=\"1\" class=\"dataframe\">\n",
       "  <thead>\n",
       "    <tr style=\"text-align: right;\">\n",
       "      <th></th>\n",
       "      <th>rest and relax</th>\n",
       "      <th>do sports</th>\n",
       "      <th>excitement, a challenge</th>\n",
       "      <th>not exceed planned budget</th>\n",
       "      <th>realise creativity</th>\n",
       "      <th>fun and entertainment</th>\n",
       "      <th>good company</th>\n",
       "      <th>health and beauty</th>\n",
       "      <th>free-and-easy-going</th>\n",
       "      <th>life style of the local people</th>\n",
       "      <th>intense experience of nature</th>\n",
       "      <th>unspoilt nature/natural landscape</th>\n",
       "      <th>cultural offers</th>\n",
       "    </tr>\n",
       "  </thead>\n",
       "  <tbody>\n",
       "    <tr>\n",
       "      <th>0</th>\n",
       "      <td>1</td>\n",
       "      <td>0</td>\n",
       "      <td>0</td>\n",
       "      <td>0</td>\n",
       "      <td>0</td>\n",
       "      <td>0</td>\n",
       "      <td>0</td>\n",
       "      <td>0</td>\n",
       "      <td>0</td>\n",
       "      <td>0</td>\n",
       "      <td>0</td>\n",
       "      <td>0</td>\n",
       "      <td>0</td>\n",
       "    </tr>\n",
       "    <tr>\n",
       "      <th>1</th>\n",
       "      <td>1</td>\n",
       "      <td>0</td>\n",
       "      <td>0</td>\n",
       "      <td>0</td>\n",
       "      <td>0</td>\n",
       "      <td>1</td>\n",
       "      <td>0</td>\n",
       "      <td>0</td>\n",
       "      <td>1</td>\n",
       "      <td>1</td>\n",
       "      <td>0</td>\n",
       "      <td>0</td>\n",
       "      <td>0</td>\n",
       "    </tr>\n",
       "    <tr>\n",
       "      <th>2</th>\n",
       "      <td>1</td>\n",
       "      <td>0</td>\n",
       "      <td>0</td>\n",
       "      <td>0</td>\n",
       "      <td>0</td>\n",
       "      <td>0</td>\n",
       "      <td>0</td>\n",
       "      <td>0</td>\n",
       "      <td>0</td>\n",
       "      <td>1</td>\n",
       "      <td>0</td>\n",
       "      <td>0</td>\n",
       "      <td>1</td>\n",
       "    </tr>\n",
       "    <tr>\n",
       "      <th>3</th>\n",
       "      <td>1</td>\n",
       "      <td>0</td>\n",
       "      <td>0</td>\n",
       "      <td>1</td>\n",
       "      <td>0</td>\n",
       "      <td>1</td>\n",
       "      <td>1</td>\n",
       "      <td>0</td>\n",
       "      <td>0</td>\n",
       "      <td>0</td>\n",
       "      <td>1</td>\n",
       "      <td>0</td>\n",
       "      <td>0</td>\n",
       "    </tr>\n",
       "    <tr>\n",
       "      <th>4</th>\n",
       "      <td>1</td>\n",
       "      <td>0</td>\n",
       "      <td>0</td>\n",
       "      <td>1</td>\n",
       "      <td>0</td>\n",
       "      <td>0</td>\n",
       "      <td>0</td>\n",
       "      <td>0</td>\n",
       "      <td>1</td>\n",
       "      <td>1</td>\n",
       "      <td>0</td>\n",
       "      <td>0</td>\n",
       "      <td>0</td>\n",
       "    </tr>\n",
       "  </tbody>\n",
       "</table>\n",
       "</div>"
      ],
      "text/plain": [
       "   rest and relax  do sports  excitement, a challenge  \\\n",
       "0               1          0                        0   \n",
       "1               1          0                        0   \n",
       "2               1          0                        0   \n",
       "3               1          0                        0   \n",
       "4               1          0                        0   \n",
       "\n",
       "   not exceed planned budget  realise creativity  fun and entertainment  \\\n",
       "0                          0                   0                      0   \n",
       "1                          0                   0                      1   \n",
       "2                          0                   0                      0   \n",
       "3                          1                   0                      1   \n",
       "4                          1                   0                      0   \n",
       "\n",
       "   good company  health and beauty  free-and-easy-going  \\\n",
       "0             0                  0                    0   \n",
       "1             0                  0                    1   \n",
       "2             0                  0                    0   \n",
       "3             1                  0                    0   \n",
       "4             0                  0                    1   \n",
       "\n",
       "   life style of the local people  intense experience of nature  \\\n",
       "0                               0                             0   \n",
       "1                               1                             0   \n",
       "2                               1                             0   \n",
       "3                               0                             1   \n",
       "4                               1                             0   \n",
       "\n",
       "   unspoilt nature/natural landscape  cultural offers  \n",
       "0                                  0                0  \n",
       "1                                  0                0  \n",
       "2                                  0                1  \n",
       "3                                  0                0  \n",
       "4                                  0                0  "
      ]
     },
     "execution_count": 156,
     "metadata": {},
     "output_type": "execute_result"
    }
   ],
   "source": [
    "df5 = vacmot.drop(['luxury / be spoilt', 'entertainment facilities', 'not care about prices', 'cosiness/familiar atmosphere', 'maintain unspoilt surroundings', 'everything organised'], axis = 1)\n",
    "df5.head()"
   ]
  },
  {
   "cell_type": "code",
   "execution_count": 157,
   "id": "c475e63d",
   "metadata": {},
   "outputs": [
    {
     "data": {
      "text/plain": [
       "(1000, 13)"
      ]
     },
     "execution_count": 157,
     "metadata": {},
     "output_type": "execute_result"
    }
   ],
   "source": [
    "df5.shape"
   ]
  },
  {
   "cell_type": "code",
   "execution_count": 158,
   "id": "75039df8",
   "metadata": {},
   "outputs": [
    {
     "data": {
      "text/plain": [
       "(1000, 19)"
      ]
     },
     "execution_count": 158,
     "metadata": {},
     "output_type": "execute_result"
    }
   ],
   "source": [
    "vacmot.shape"
   ]
  },
  {
   "cell_type": "code",
   "execution_count": 159,
   "id": "6155e0cb",
   "metadata": {},
   "outputs": [
    {
     "data": {
      "image/png": "[encoded data removed]",
      "text/plain": [
       "<Figure size 1296x1296 with 2 Axes>"
      ]
     },
     "metadata": {
      "needs_background": "light"
     },
     "output_type": "display_data"
    }
   ],
   "source": [
    "corr = df5.corr()\n",
    "\n",
    "f, ax = plt.subplots(figsize = (18,18))\n",
    "\n",
    "cmap = sns.diverging_palette(220, 10, as_cmap = True)\n",
    "\n",
    "heatmap = sns.heatmap(corr, cmap = cmap, center = 0.0, vmax = 1, linewidth = 1, ax = ax)\n",
    "\n",
    "plt.show()"
   ]
  },
  {
   "cell_type": "code",
   "execution_count": 162,
   "id": "44777935",
   "metadata": {},
   "outputs": [
    {
     "data": {
      "text/plain": [
       "Index(['rest and relax', 'do sports', 'excitement, a challenge',\n",
       "       'not exceed planned budget', 'realise creativity',\n",
       "       'fun and entertainment', 'good company', 'health and beauty',\n",
       "       'free-and-easy-going', 'life style of the local people',\n",
       "       'intense experience of nature', 'unspoilt nature/natural landscape',\n",
       "       'cultural offers'],\n",
       "      dtype='object')"
      ]
     },
     "execution_count": 162,
     "metadata": {},
     "output_type": "execute_result"
    }
   ],
   "source": [
    "features = df5.columns\n",
    "features"
   ]
  },
  {
   "cell_type": "code",
   "execution_count": 140,
   "id": "f74a3408",
   "metadata": {},
   "outputs": [],
   "source": [
    "#biplot data\n",
    "PC1 = PC[:, 0]\n",
    "PC2 = PC[:, 1]"
   ]
  },
  {
   "cell_type": "code",
   "execution_count": 141,
   "id": "2db05ee3",
   "metadata": {},
   "outputs": [
    {
     "data": {
      "text/plain": [
       "array([[ 0.11378339,  0.14850455,  0.16561291,  0.26333751,  0.22212393,\n",
       "         0.24625262,  0.22656302,  0.23400294,  0.2663163 ,  0.26656457,\n",
       "         0.15618629,  0.0795023 ,  0.27941849,  0.29989957,  0.18829138,\n",
       "         0.31433479,  0.14971481,  0.30446911,  0.24914184],\n",
       "       [-0.00222296,  0.41947458,  0.25090636,  0.1527386 , -0.18906504,\n",
       "        -0.04200484,  0.3075025 , -0.06564726,  0.09906625, -0.00083858,\n",
       "         0.40627543,  0.36084599, -0.22313993, -0.23405246, -0.01904402,\n",
       "        -0.2912738 ,  0.26311396, -0.15739119, -0.1118718 ],\n",
       "       [-0.40474984, -0.05969679,  0.04204624,  0.2724174 , -0.31743173,\n",
       "         0.02114558,  0.00852334,  0.00578242, -0.14442145, -0.14302913,\n",
       "        -0.0176607 ,  0.28707512,  0.37322631,  0.03639533, -0.37904916,\n",
       "        -0.03465711, -0.21344424, -0.0553284 ,  0.44402495],\n",
       "       [-0.05086109,  0.26478632, -0.02823167, -0.21527638, -0.41506277,\n",
       "         0.03264615, -0.39495965, -0.29852397,  0.26691437, -0.12611645,\n",
       "        -0.149723  ,  0.30733069, -0.12012087,  0.26539051,  0.09153542,\n",
       "         0.24848328,  0.10162792,  0.29825023, -0.05852204],\n",
       "       [-0.47448776, -0.09151044, -0.00511457,  0.20050601,  0.10981715,\n",
       "         0.34836917, -0.13478378,  0.04851018,  0.25698402, -0.40813415,\n",
       "         0.06104466, -0.34951018, -0.19593685,  0.10712501,  0.05084202,\n",
       "        -0.14292184,  0.36702828, -0.07185758,  0.03267517],\n",
       "       [-0.03815013,  0.01074811,  0.58455038,  0.22288949,  0.13339781,\n",
       "        -0.27635442,  0.02430327, -0.35620869, -0.17125775, -0.17578628,\n",
       "         0.1276357 , -0.27724677, -0.13081388,  0.13256839, -0.18567504,\n",
       "         0.25148675, -0.17075707,  0.229096  , -0.1340562 ]])"
      ]
     },
     "execution_count": 141,
     "metadata": {},
     "output_type": "execute_result"
    }
   ],
   "source": [
    "loadings = pca.components_\n",
    "loadings"
   ]
  },
  {
   "cell_type": "code",
   "execution_count": 142,
   "id": "42ee0ce6",
   "metadata": {},
   "outputs": [
    {
     "data": {
      "text/plain": [
       "(6, 19)"
      ]
     },
     "execution_count": 142,
     "metadata": {},
     "output_type": "execute_result"
    }
   ],
   "source": [
    "loadings.shape"
   ]
  },
  {
   "cell_type": "code",
   "execution_count": 144,
   "id": "972f749f",
   "metadata": {},
   "outputs": [
    {
     "data": {
      "text/plain": [
       "0.09910289276947322"
      ]
     },
     "execution_count": 144,
     "metadata": {},
     "output_type": "execute_result"
    }
   ],
   "source": [
    "PC1_scaled = 1.0/(PC1.max() - PC1.min())\n",
    "PC1_scaled"
   ]
  },
  {
   "cell_type": "code",
   "execution_count": 145,
   "id": "911657cf",
   "metadata": {},
   "outputs": [
    {
     "data": {
      "text/plain": [
       "0.12391262256744917"
      ]
     },
     "execution_count": 145,
     "metadata": {},
     "output_type": "execute_result"
    }
   ],
   "source": [
    "PC2_scaled = 1.0/(PC2.max() - PC2.min())\n",
    "PC2_scaled"
   ]
  },
  {
   "cell_type": "code",
   "execution_count": 182,
   "id": "e6a36a70",
   "metadata": {},
   "outputs": [
    {
     "data": {
      "text/plain": [
       "Text(0.5, 1.0, 'Simple Biplot')"
      ]
     },
     "execution_count": 182,
     "metadata": {},
     "output_type": "execute_result"
    },
    {
     "data": {
      "image/png": "[encoded data removed]",
      "text/plain": [
       "<Figure size 1008x648 with 1 Axes>"
      ]
     },
     "metadata": {
      "needs_background": "light"
     },
     "output_type": "display_data"
    }
   ],
   "source": [
    "f, ax = plt.subplots(figsize = (14, 9))\n",
    "\n",
    "for i, feature in enumerate(features): #iterate over features\n",
    "    ax.arrow(0, 0, loadings[0,i], loadings[1,i], color = 'green', head_width = 0.01, head_length = 0.01) #plot arrows\n",
    "    ax.text(loadings[0,i]*1.1, loadings[1,i]*1.1, feature, fontsize = 15, color = 'red') #add arrow texts\n",
    "    \n",
    "ax.scatter(PC1*PC1_scaled, PC2*PC2_scaled, color = 'grey', alpha = 0.4)\n",
    "\n",
    "ax.set_xlabel('PC1', fontsize = 20)\n",
    "ax.set_ylabel('PC2', fontsize = 20)\n",
    "ax.set_title('Simple Biplot', fontsize = 20)"
   ]
  },
  {
   "cell_type": "code",
   "execution_count": null,
   "id": "06c55394",
   "metadata": {},
   "outputs": [],
   "source": []
  }
 ],
 "metadata": {
  "kernelspec": {
   "display_name": "Python 3 (ipykernel)",
   "language": "python",
   "name": "python3"
  },
  "language_info": {
   "codemirror_mode": {
    "name": "ipython",
    "version": 3
   },
   "file_extension": ".py",
   "mimetype": "text/x-python",
   "name": "python",
   "nbconvert_exporter": "python",
   "pygments_lexer": "ipython3",
   "version": "3.9.12"
  }
 },
 "nbformat": 4,
 "nbformat_minor": 5
}
